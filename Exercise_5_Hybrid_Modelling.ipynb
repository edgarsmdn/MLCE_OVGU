{
  "nbformat": 4,
  "nbformat_minor": 0,
  "metadata": {
    "colab": {
      "name": "Exercise_5_Hybrid_Modelling.ipynb",
      "provenance": [],
      "collapsed_sections": []
    },
    "kernelspec": {
      "name": "python3",
      "display_name": "Python 3"
    },
    "language_info": {
      "name": "python"
    }
  },
  "cells": [
    {
      "cell_type": "markdown",
      "metadata": {
        "id": "JSMsxFeTYxmh"
      },
      "source": [
        "# Exercise 5. Serial hybrid model for CSTR\n",
        "\n",
        "Let' say we have the following reactor model:\n",
        "\n",
        "<img src=\"CSTR.png\" alt=\"CSTR\" style=\"width: 200px;\"/>\n",
        "\n",
        "\\begin{align}\n",
        "\\frac{\\mathrm{d}c_A}{\\mathrm{d}t} &= \\frac{c_{A,in} - c_A}{\\tau} - r\\\\\n",
        "\\frac{\\mathrm{d}c_B}{\\mathrm{d}t} &= \\frac{c_{B,in} - c_B}{\\tau} - r\\\\\n",
        "\\frac{\\mathrm{d}c_X}{\\mathrm{d}t} &= \\frac{c_{X,in} - c_X}{\\tau} + r,\n",
        "\\end{align}\n",
        "\n",
        "where $c_i$ denotes the molar concentration of substance $i$ and $r$ is the reaction rate. We assume that the reactor is ideally mixed, that it has a constant volume and that the average residence time is $\\tau=100\\,\\mathrm{1/s}$. The inlet concentrations of substance $i$ into the reactor are given by\n",
        "\n",
        "\\begin{align}\n",
        "c_{A,in} &= 0.7\\,\\mathrm{kmol/m^3}\\\\\n",
        "c_{B,in} &= 0.3\\,\\mathrm{kmol/m^3}\\\\\n",
        "c_{X,in} &= 0\\,\\mathrm{kmol/m^3}.\n",
        "\\end{align}\n",
        "\n",
        "For solving the differential equation system, we also need to know the initial concentration of each substance inside the reactor, denoted as $c_{i,0}$. From the data it is known that the experiment was started with the following initial concentrations:\n",
        "\n",
        "\\begin{align}\n",
        "c_{A,0} &= 0.5\\,\\mathrm{kmol/m^3}\\\\\n",
        "c_{B,0} &= 0.5\\,\\mathrm{kmol/m^3}\\\\\n",
        "c_{X,0} &= 0\\,\\mathrm{kmol/m^3}.\n",
        "\\end{align}\n",
        "\n",
        "Time-dependent measurements for all concentrations are available.\n",
        "\n",
        "The task is to construct a serial hybrid model, in which the reaction rate $r$ is described by a data-driven model. In this particular example, a neural network will be used."
      ]
    },
    {
      "cell_type": "markdown",
      "metadata": {
        "id": "fB3Ws3TGYxmp"
      },
      "source": [
        "# Problem description\n",
        "\n",
        "The problem with constructing a serial hybrid model, as exemplified above, is that the data-driven model cannot be trained independently of the differential equation system that describes the system (mechanistic part of the hybrid model). Actually, the neural network should learn the function $r=f(c)$ but, of course, we do not have values for $r$ which we could use to train the model. One way to solve this problem is by using sensitivity equations. This approach will be discussed in the following."
      ]
    },
    {
      "cell_type": "markdown",
      "metadata": {
        "id": "wwkyCdLAYxmq"
      },
      "source": [
        "# General solution procedure\n",
        "\n",
        "We will first generalize the differential equation system as follows:\n",
        "\n",
        "\\begin{align}\n",
        "\\frac{\\mathrm{d}y}{\\mathrm{d}t} &= f(y, u,\\phi(y,w))\n",
        "\\end{align}\n",
        "\n",
        "where $y$ are states of the system, $u$ are system inputs and $\\phi(y,w)$ denotes a data-driven model that describes a part of the mechanistic model with the use of the states $y$ and a set of parameter values $w$. In the case of a neural network, the parameter vector $w$ includes all the weights and biases.\n",
        "\n",
        "In order to train any kind of model, we need a loss or cost function (usually denoted by $J$) to estimate the quality of our model predictions. Often times, the sum of squares of the deviations between the model predictions and the data is used as an objective for parameter estimation:\n",
        "\n",
        "\\begin{align}\n",
        "J = 0.5 \\sum_{i=1}^N\\left(y_i - y_{i, \\text{exp}}\\right)^2,\n",
        "\\end{align}\n",
        "\n",
        "where $y$ are the set of model predictions corresponding to the $N$ measurement points $y_\\text{exp}$. The model predictions are depend on $u$ and $w$, i.e. $y=f(u,w)$.\n",
        "\n",
        "Normally, when training a neural network, the gradient of the loss function with respect to the network parameters is used for optimization. The gradient of the loss function with respect to a single parameter $w_j$ is given by\n",
        "\n",
        "\\begin{align}\n",
        "\\frac{\\partial J}{\\partial w_j} = \\sum_{i=1}^N\\left(y_i - y_{i, \\text{exp}}\\right)\\frac{\\partial y}{\\partial w_j}.\n",
        "\\end{align}\n",
        "\n",
        "As can be seen, the gradient depends on $\\frac{\\partial y}{\\partial w_j}$, i.e. the sensitivities of the system states with respect to the parameters (neural network weights and biases). Training of the neural network is then achieved by iteratively updating the parameters according to\n",
        "\n",
        "\\begin{align}\n",
        "w_j^{n+1} = w_j^{n} - g \\frac{\\partial J}{\\partial w_j^{n}},\n",
        "\\end{align}\n",
        "\n",
        "where $w_j^{n+1}$ is the updated parameter that is calculated from the current parameter $w_j^{n}$ using the gradient $\\frac{\\partial J}{\\partial w_j^{n}}$ and a learning rate $g$.\n",
        "\n",
        "As can be seen, the problem could be solved easily, if we would have the sensitivities $\\frac{\\partial y}{\\partial w_j}$. Since the mechanistic part of the model is given by a differential equation system, calculating these sensitivities is a bit more complicated than for an algebraic model, but luckily they are available. Using local sensitivity analysis of the ODE system and denoting the sensitivities $\\frac{\\partial y}{\\partial w_j}$ as $s_j$, the sensitivities can be described by\n",
        "\n",
        "\\begin{align}\n",
        "\\frac{\\mathrm{d}s_j}{\\mathrm{d}t} = \\frac{\\partial f}{\\partial y}s_j + \\frac{\\partial f}{\\partial w_j}.\n",
        "\\end{align}\n",
        "\n",
        "As can be seen, the equation above is a differential equation for the sensitivities. Since $f$ depends on the system states, the differential equations for the sensitivities need to be integrated simultaneously with the ODE system of the mechanistic part."
      ]
    },
    {
      "cell_type": "markdown",
      "metadata": {
        "id": "pz6WCB3hYxmr"
      },
      "source": [
        "# Solution to the example\n",
        "\n",
        "For the reactor example above, the loss function is defined as\n",
        "\n",
        "\\begin{align}\n",
        "J = 0.5\\left[ \\sum_{i=1}^N\\left(c_{A,i} - c_{A,i,\\text{exp}}\\right)^2 + \\sum_{i=1}^N\\left(c_{B,i} - c_{B,i,\\text{exp}}\\right)^2 + \\sum_{i=1}^N\\left(c_{X,i} - c_{X,i,\\text{exp}}\\right)^2\\right],\n",
        "\\end{align}\n",
        "\n",
        "if we assume that we have measurements for all components at each point $i$. Then, the gradient of the loss function with respect to the parameters $w$ is given as \n",
        "\n",
        "\\begin{align}\n",
        "\\frac{\\partial J}{\\partial w_j} = \\sum_{i=1}^N\\left(c_{A,i} - c_{A,i,\\text{exp}}\\right)\\frac{\\partial c_{A,i}}{\\partial w_j} + \\sum_{i=1}^N\\left(c_{B,i} - c_{B,i,\\text{exp}}\\right)\\frac{\\partial c_{B,i}}{\\partial w_j} + \\sum_{i=1}^N\\left(c_{X,i} - c_{X,i,\\text{exp}}\\right)\\frac{\\partial c_{X,i}}{\\partial w_j},\n",
        "\\end{align}\n",
        "\n",
        "since the concentrations $c_A$, $c_B$ and $c_X$ are all functions of the parameters of the neural network (weights and biases). The sensitivities are calculated according to the following ODE system for each parameter $w_j$:\n",
        "\n",
        "\\begin{align}\n",
        "\\frac{\\mathrm{d}}{\\mathrm{d}t}\\begin{bmatrix}\n",
        "  \\frac{\\partial c_{A}}{\\partial w_j}\\\\\n",
        "  \\frac{\\partial c_{B}}{\\partial w_j}\\\\\n",
        "  \\frac{\\partial c_{X}}{\\partial w_j}\\\\\n",
        "\\end{bmatrix}\n",
        "=\n",
        "\\begin{bmatrix}\n",
        "  -\\frac{1}{\\tau}-\\frac{\\partial r}{\\partial c_A} & -\\frac{\\partial r}{\\partial c_B} & -\\frac{\\partial r}{\\partial c_X}\\\\\n",
        "  -\\frac{\\partial r}{\\partial c_A} & -\\frac{1}{\\tau}-\\frac{\\partial r}{\\partial c_B} & -\\frac{\\partial r}{\\partial c_X} \\\\\n",
        "  +\\frac{\\partial r}{\\partial c_A} & +\\frac{\\partial r}{\\partial c_B} & -\\frac{1}{\\tau}+\\frac{\\partial r}{\\partial c_X} \\\\\n",
        "\\end{bmatrix}\n",
        "\\begin{bmatrix}\n",
        "  \\frac{\\partial c_{A}}{\\partial w_j}\\\\\n",
        "  \\frac{\\partial c_{B}}{\\partial w_j}\\\\\n",
        "  \\frac{\\partial c_{X}}{\\partial w_j}\\\\\n",
        "\\end{bmatrix}\n",
        "+\n",
        "\\begin{bmatrix}\n",
        "  -\\frac{\\partial r}{\\partial w_j}\\\\\n",
        "  -\\frac{\\partial r}{\\partial w_j}\\\\\n",
        "  +\\frac{\\partial r}{\\partial w_j}\\\\\n",
        "\\end{bmatrix}\n",
        "\\end{align}\n",
        "\n",
        "Hence, for $p$ parameters and $l$ system states, there are $p*l$ sensitivity equations to be integrated additionally to the $l$ system equations. If a neural network with 3 input nodes, 10 hidden nodes and 1 output node is used, the total number of parameters is $3*10+10+10*1+1=51$ parameters for three states ($c_A$, $c_B$ and $c_X$). Thus, there would be $3*51=153$ sensitivity equations to be integrated, which quickly becomes computationally intensive."
      ]
    },
    {
      "cell_type": "code",
      "source": [
        "# autograd is used for exact, automatic differentiation\n",
        "!pip install autograd\n",
        "import autograd.numpy as np\n",
        "from autograd.scipy.integrate import odeint\n",
        "import autograd.numpy.random as npr\n",
        "from autograd import jacobian\n",
        "from autograd.misc.optimizers import adam\n",
        "import matplotlib.pyplot as plt\n",
        "import pandas as pd"
      ],
      "metadata": {
        "id": "uRnmcH8FfqkF",
        "colab": {
          "base_uri": "https://localhost:8080/"
        },
        "outputId": "bf07ac24-7c1d-498c-bb93-a432f8fc4f00"
      },
      "execution_count": 1,
      "outputs": [
        {
          "output_type": "stream",
          "name": "stdout",
          "text": [
            "Looking in indexes: https://pypi.org/simple, https://us-python.pkg.dev/colab-wheels/public/simple/\n",
            "Requirement already satisfied: autograd in /usr/local/lib/python3.7/dist-packages (1.4)\n",
            "Requirement already satisfied: future>=0.15.2 in /usr/local/lib/python3.7/dist-packages (from autograd) (0.16.0)\n",
            "Requirement already satisfied: numpy>=1.12 in /usr/local/lib/python3.7/dist-packages (from autograd) (1.21.6)\n"
          ]
        }
      ]
    },
    {
      "cell_type": "code",
      "source": [
        "################################################################################\n",
        "###           Create neural network for reaction rate prediction             ###\n",
        "################################################################################\n",
        "\n",
        "# initialize random number generator for repeatable results\n",
        "rs = npr.RandomState(0)\n",
        "\n",
        "def init_random_params(layer_sizes, scale):\n",
        "    \"\"\"Build a list of weights and biases, one for each layer in the net.\n",
        "    layers is a list with the number of nodes in each layer. Minimum number of layers is three (input, hidden \n",
        "    and output) scale is a constant factor to scale the random values (down or up) if necessary\"\"\"\n",
        "    params = []\n",
        "    for idx in range(len(layer_sizes)-1):\n",
        "        weight_mat_elem = layer_sizes[idx]*layer_sizes[idx+1]\n",
        "        bias_vec_elem = layer_sizes[idx+1]\n",
        "        params = np.append(params, rs.randn(weight_mat_elem+bias_vec_elem))\n",
        "    return params*scale\n"
      ],
      "metadata": {
        "id": "SuiF9j8bgH8j"
      },
      "execution_count": 2,
      "outputs": []
    },
    {
      "cell_type": "code",
      "source": [
        "#lets take some random values of some variables to understand the forward pass of neural network\n",
        "layer_sizes =[3,3,1]\n",
        "scale = 0.0005\n",
        "init_params = init_random_params(layer_sizes, scale)"
      ],
      "metadata": {
        "id": "x_pICrrCdPzq"
      },
      "execution_count": 3,
      "outputs": []
    },
    {
      "cell_type": "code",
      "execution_count": 4,
      "metadata": {
        "id": "Jjz2pdTaVnE2"
      },
      "outputs": [],
      "source": [
        "def neural_net_predict(params, inputs):\n",
        "    \"\"\"Implements a (deep) neural network for regression.\n",
        "       params is a list of weights and biases.\n",
        "       inputs is a matrix of input values.\n",
        "       returns network prediction.\"\"\"\n",
        "    # Make sure that params is a vector\n",
        "    params = params.flatten()\n",
        "    # set separator value for easier indexing of the parameters and assigning them to weights and biases \n",
        "    # for each layer\n",
        "    sep = 0\n",
        "    # loop over all layers\n",
        "    for idx in range(len(layer_sizes)-1):\n",
        "        # calculate weight matrix\n",
        "        W = params[sep:sep+layer_sizes[idx]*layer_sizes[idx+1]].reshape(layer_sizes[idx],layer_sizes[idx+1])\n",
        "        # calculate bias vector\n",
        "        b = params[sep+layer_sizes[idx]*layer_sizes[idx+1]:sep+layer_sizes[idx]*layer_sizes[idx+1]\n",
        "                   +layer_sizes[idx+1]]\n",
        "        # set new separator value\n",
        "        sep = layer_sizes[idx]*layer_sizes[idx+1]+layer_sizes[idx+1]\n",
        "        # calculate output as weighted sum of inputs plus bias\n",
        "        outputs = np.dot(inputs, W) + b\n",
        "        # apply activation function and assign the result as the input to the next layer \n",
        "        # (note that this has no effect on the output layer)\n",
        "        inputs = 1/(1 + np.exp(-outputs))\n",
        "    return outputs"
      ]
    },
    {
      "cell_type": "code",
      "source": [
        "# initial conditions for the concentrations in the reactor\n",
        "c_A0 = 0.5\n",
        "c_B0 = 0.5\n",
        "c_X0 = 0\n",
        "c0 = [c_A0, c_B0, c_X0]\n",
        "outputs = neural_net_predict(init_params, c0)\n",
        "outputs"
      ],
      "metadata": {
        "colab": {
          "base_uri": "https://localhost:8080/"
        },
        "id": "t67s2IAQfJt3",
        "outputId": "c64810f6-69e8-4ec2-9c24-1596e0e8b915"
      },
      "execution_count": 5,
      "outputs": [
        {
          "output_type": "execute_result",
          "data": {
            "text/plain": [
              "array([0.00049865])"
            ]
          },
          "metadata": {},
          "execution_count": 5
        }
      ]
    },
    {
      "cell_type": "code",
      "source": [
        "################################################################################\n",
        "###                 Generate complete serial hybrid model                    ###\n",
        "################################################################################\n",
        "\n",
        "# system parameters\n",
        "tau = 100\n",
        "\n",
        "# inlet concentrations\n",
        "c_Ain = 0.7\n",
        "c_Bin = 0.3\n",
        "c_Xin = 0\n",
        "\n",
        "# initial conditions for the concentrations in the reactor\n",
        "c_A0 = 0.5\n",
        "c_B0 = 0.5\n",
        "c_X0 = 0\n",
        "\n",
        "# end time for integration\n",
        "t_end = 100\n",
        "n_samples = 30\n",
        "t_span = np.linspace(0, t_end, n_samples)\n",
        "t_span"
      ],
      "metadata": {
        "id": "fymDeYGEgQx_",
        "colab": {
          "base_uri": "https://localhost:8080/"
        },
        "outputId": "3090956b-7703-446d-fefe-db5bd3640adc"
      },
      "execution_count": 6,
      "outputs": [
        {
          "output_type": "execute_result",
          "data": {
            "text/plain": [
              "array([  0.        ,   3.44827586,   6.89655172,  10.34482759,\n",
              "        13.79310345,  17.24137931,  20.68965517,  24.13793103,\n",
              "        27.5862069 ,  31.03448276,  34.48275862,  37.93103448,\n",
              "        41.37931034,  44.82758621,  48.27586207,  51.72413793,\n",
              "        55.17241379,  58.62068966,  62.06896552,  65.51724138,\n",
              "        68.96551724,  72.4137931 ,  75.86206897,  79.31034483,\n",
              "        82.75862069,  86.20689655,  89.65517241,  93.10344828,\n",
              "        96.55172414, 100.        ])"
            ]
          },
          "metadata": {},
          "execution_count": 6
        }
      ]
    },
    {
      "cell_type": "code",
      "source": [
        "# define system equations\n",
        "def dcdt(c, t, params):\n",
        "    \"\"\"Mechanistic part of the hybrid model (ODE system describing the time-dependent \n",
        "    concentrations in the reactor)\"\"\"\n",
        "    # disassemble input vector\n",
        "    c_A, c_B, c_X = c\n",
        "    # calculate reaction rates by neural network prediction\n",
        "    r = neural_net_predict(params, c)\n",
        "    #r = 0.08*c_A**0.7*c_B**1.3 # true underlying reaction rate\n",
        "    # system equations\n",
        "    dcdt = [(c_Ain-c_A)/tau - r,\n",
        "            (c_Bin-c_B)/tau - r,\n",
        "            (c_Xin-c_X)/tau + r]\n",
        "    return np.array(dcdt)"
      ],
      "metadata": {
        "id": "wFLvdCTdjFsk"
      },
      "execution_count": 7,
      "outputs": []
    },
    {
      "cell_type": "code",
      "source": [
        "# calculate system jacobian and parameter derivatives by automatic differentiation with autograd\n",
        "dfdc = jacobian(dcdt, 0)    # system jacobian\n",
        "dfdp = jacobian(dcdt, 2)    # parameter derivatives"
      ],
      "metadata": {
        "id": "uMenTWFCgXEd"
      },
      "execution_count": 8,
      "outputs": []
    },
    {
      "cell_type": "code",
      "source": [
        "# differential equation system\n",
        "def DiffEqs(y, t, params):\n",
        "    \"\"\"Hybrid model including the ODE system for the concentrations as well as the sensitivities \n",
        "    that are used for training the neural network part of the model\"\"\"\n",
        "    # disassemble input vector\n",
        "    c = y[:3]\n",
        "    s = y[3:]\n",
        "    # evaluate system jacobian at current point\n",
        "    dfdc_eval = dfdc(c, t, params)\n",
        "    # evaluate parameter derivatives at current point\n",
        "    dfdp_eval = dfdp(c, t, params) # Shape: (3, 1, 16)\n",
        "    #print(dfdp_eval.shape)\n",
        "    # define sensitivities for all parameters\n",
        "    dsdt = np.zeros(len(s)) # preallocate memory for sensitivities\n",
        "    for i in range(len_p):  # loop over all parameters to construct the corresponding sensitivity equations\n",
        "        dsdt[i*len_c:(i+1)*len_c] = (dfdc_eval @ s[i*len_c:(i+1)*len_c]).flatten() + dfdp_eval[:,0,i] \n",
        "        # construct sensitivities (see https://docs.sciml.ai/v4.0/analysis/sensitivity.html#Example-solving-an-\n",
        "        # ODELocalSensitivityProblem-1)\n",
        "        # [c1/w1, c2/w1, c3/w1, c1/w2, ...]\n",
        "    return np.concatenate((dcdt(c, t, params).flatten(), dsdt))"
      ],
      "metadata": {
        "id": "36nAnk9CgdkE"
      },
      "execution_count": 9,
      "outputs": []
    },
    {
      "cell_type": "code",
      "source": [
        "# Training parameters\n",
        "scale = 0.0005\n",
        "num_epochs = 1000\n",
        "step_size = 0.001\n",
        "\n",
        "# set neural network size\n",
        "layer_sizes = [3, 3, 1] # no. of nodes in input layer, hidden layer(s) and output layer\n",
        "\n",
        "# initialize parameter vector for neural network or load saved parameters\n",
        "init_params = init_random_params(layer_sizes, scale)"
      ],
      "metadata": {
        "id": "CfOxtugKglVm"
      },
      "execution_count": 10,
      "outputs": []
    },
    {
      "cell_type": "code",
      "source": [
        "# assemble initial value vector\n",
        "c0 = [c_A0, c_B0, c_X0]\n",
        "len_c = len(c0)\n",
        "len_p = len(init_params)\n",
        "s0 = np.zeros((len_p*len_c))\n",
        "y0 = np.concatenate((c0,s0))\n",
        "\n",
        "# load some simulated(fake) experimental data (see above)\n",
        "c_exp = np.array(pd.read_csv('/content/ODE-data.txt', sep=';'))"
      ],
      "metadata": {
        "id": "7qpT8g6Tg-iV"
      },
      "execution_count": 11,
      "outputs": []
    },
    {
      "cell_type": "code",
      "source": [
        "def objective(params, iter):\n",
        "    \"\"\"Objective function (sum of squared errors between measurements and model predictions)\"\"\"\n",
        "    # calculate hybrid model in forward direction with odeint\n",
        "    sol = odeint(DiffEqs, y0, t_span, args=(params,))\n",
        "    # disassemble results\n",
        "    c_pred = sol[:,:3] # predicted concentrations\n",
        "    return np.trace((c_pred - c_exp).T @ (c_pred - c_exp))"
      ],
      "metadata": {
        "id": "-CBjYSzWhFPr"
      },
      "execution_count": 12,
      "outputs": []
    },
    {
      "cell_type": "code",
      "source": [
        "def objective_grad(params, iter):\n",
        "    \"\"\"Function calculates the gradient of the objective function with respect to the network parameters\"\"\"\n",
        "    sol = odeint(DiffEqs, y0, t_span, args=(params,))\n",
        "    # disassemble results\n",
        "    c_pred = sol[:,:3] # predicted concentrations\n",
        "    sens = sol[:,3:]   # sensititvities 16*3=48 -> c1/w1, c2/w1, c3/w1, c1/w2.....\n",
        "    # calculate gradients of the loss function\n",
        "    loss_grad = np.zeros(len_p) # set vector size\n",
        "    for comp_idx in range(len_c):\n",
        "        # For loop is running for each concentration and all parameters\n",
        "        loss_grad += sens[:,comp_idx::3].T @ (c_pred[:,comp_idx] - c_exp[:,comp_idx])      # : is for all 30 time steps\n",
        "    return loss_grad"
      ],
      "metadata": {
        "id": "3H6KjJfsiuMO"
      },
      "execution_count": 13,
      "outputs": []
    },
    {
      "cell_type": "code",
      "execution_count": 14,
      "metadata": {
        "id": "9MvPw2uiYxmt"
      },
      "outputs": [],
      "source": [
        "def summary(params, iter, gradient):\n",
        "    \"\"\"Callback function gives informative output during optimization\"\"\"\n",
        "    if iter % 10 == 0:\n",
        "        print('step {0:5d}: {1:1.3e}'.format(iter, objective(params, iter)))\n",
        "        np.save('Params', params)"
      ]
    },
    {
      "cell_type": "code",
      "source": [
        "# Optimize the network parameters\n",
        "optimized_params = adam(objective_grad, init_params, step_size=step_size, num_iters=num_epochs, callback=summary)"
      ],
      "metadata": {
        "id": "-w7FV2Ahko7G",
        "colab": {
          "base_uri": "https://localhost:8080/"
        },
        "outputId": "5564409a-04ac-4c30-b1c7-aa6500d28e4f"
      },
      "execution_count": 15,
      "outputs": [
        {
          "output_type": "stream",
          "name": "stdout",
          "text": [
            "step     0: 3.486e+00\n",
            "step    10: 6.437e-01\n",
            "step    20: 5.709e-01\n",
            "step    30: 3.809e-01\n",
            "step    40: 3.878e-01\n",
            "step    50: 3.750e-01\n",
            "step    60: 3.728e-01\n",
            "step    70: 3.698e-01\n",
            "step    80: 3.698e-01\n",
            "step    90: 3.692e-01\n",
            "step   100: 3.686e-01\n",
            "step   110: 3.682e-01\n",
            "step   120: 3.677e-01\n",
            "step   130: 3.672e-01\n",
            "step   140: 3.667e-01\n",
            "step   150: 3.662e-01\n",
            "step   160: 3.656e-01\n",
            "step   170: 3.650e-01\n",
            "step   180: 3.643e-01\n",
            "step   190: 3.636e-01\n",
            "step   200: 3.628e-01\n",
            "step   210: 3.620e-01\n",
            "step   220: 3.611e-01\n",
            "step   230: 3.602e-01\n",
            "step   240: 3.591e-01\n",
            "step   250: 3.580e-01\n",
            "step   260: 3.568e-01\n",
            "step   270: 3.555e-01\n",
            "step   280: 3.541e-01\n",
            "step   290: 3.526e-01\n",
            "step   300: 3.509e-01\n",
            "step   310: 3.491e-01\n",
            "step   320: 3.471e-01\n",
            "step   330: 3.450e-01\n",
            "step   340: 3.427e-01\n",
            "step   350: 3.402e-01\n",
            "step   360: 3.375e-01\n",
            "step   370: 3.346e-01\n",
            "step   380: 3.314e-01\n",
            "step   390: 3.280e-01\n",
            "step   400: 3.243e-01\n",
            "step   410: 3.203e-01\n",
            "step   420: 3.161e-01\n",
            "step   430: 3.116e-01\n",
            "step   440: 3.067e-01\n",
            "step   450: 3.016e-01\n",
            "step   460: 2.961e-01\n",
            "step   470: 2.904e-01\n",
            "step   480: 2.843e-01\n",
            "step   490: 2.779e-01\n",
            "step   500: 2.713e-01\n",
            "step   510: 2.643e-01\n",
            "step   520: 2.571e-01\n",
            "step   530: 2.496e-01\n",
            "step   540: 2.420e-01\n",
            "step   550: 2.341e-01\n",
            "step   560: 2.261e-01\n",
            "step   570: 2.179e-01\n",
            "step   580: 2.097e-01\n",
            "step   590: 2.014e-01\n",
            "step   600: 1.930e-01\n",
            "step   610: 1.847e-01\n",
            "step   620: 1.764e-01\n",
            "step   630: 1.682e-01\n",
            "step   640: 1.602e-01\n",
            "step   650: 1.522e-01\n",
            "step   660: 1.445e-01\n",
            "step   670: 1.369e-01\n",
            "step   680: 1.296e-01\n",
            "step   690: 1.224e-01\n",
            "step   700: 1.156e-01\n",
            "step   710: 1.090e-01\n",
            "step   720: 1.027e-01\n",
            "step   730: 9.662e-02\n",
            "step   740: 9.084e-02\n",
            "step   750: 8.535e-02\n",
            "step   760: 8.013e-02\n",
            "step   770: 7.519e-02\n",
            "step   780: 7.051e-02\n",
            "step   790: 6.609e-02\n",
            "step   800: 6.192e-02\n",
            "step   810: 5.800e-02\n",
            "step   820: 5.430e-02\n",
            "step   830: 5.083e-02\n",
            "step   840: 4.758e-02\n",
            "step   850: 4.452e-02\n",
            "step   860: 4.166e-02\n",
            "step   870: 3.898e-02\n",
            "step   880: 3.647e-02\n",
            "step   890: 3.412e-02\n",
            "step   900: 3.193e-02\n",
            "step   910: 2.988e-02\n",
            "step   920: 2.796e-02\n",
            "step   930: 2.617e-02\n",
            "step   940: 2.450e-02\n",
            "step   950: 2.294e-02\n",
            "step   960: 2.149e-02\n",
            "step   970: 2.013e-02\n",
            "step   980: 1.886e-02\n",
            "step   990: 1.768e-02\n"
          ]
        }
      ]
    },
    {
      "cell_type": "code",
      "source": [
        "optimized_params"
      ],
      "metadata": {
        "id": "ij5RhjX907mn",
        "colab": {
          "base_uri": "https://localhost:8080/"
        },
        "outputId": "453088ac-bd51-45d0-985c-a1e2304188df"
      },
      "execution_count": 16,
      "outputs": [
        {
          "output_type": "execute_result",
          "data": {
            "text/plain": [
              "array([ 0.37739604,  0.37844712,  0.47128898,  0.88793019,  0.89051222,\n",
              "        1.01233345, -0.78775134, -0.79029201, -0.88076969, -0.15910703,\n",
              "       -0.1596567 , -0.22597742,  0.02105887,  0.02105786,  0.02519266,\n",
              "       -0.02796882])"
            ]
          },
          "metadata": {},
          "execution_count": 16
        }
      ]
    },
    {
      "cell_type": "code",
      "source": [
        "# calculate solution with initial and optimized parameters for comparison\n",
        "sol_init = odeint(DiffEqs, y0, t_span, args=(init_params,))\n",
        "sol_opt = odeint(DiffEqs, y0, t_span, args=(optimized_params,))"
      ],
      "metadata": {
        "id": "IUc4wyr7XkkJ"
      },
      "execution_count": 17,
      "outputs": []
    },
    {
      "cell_type": "markdown",
      "metadata": {
        "id": "EYV4qNkIYZjV"
      },
      "source": [
        "## Results \n",
        "### On Training Data"
      ]
    },
    {
      "cell_type": "code",
      "source": [
        "# plot system trajectories\n",
        "plt.figure(1)\n",
        "plt.plot(t_span, sol_init[:,:len_c],'--')\n",
        "plt.gca().set_prop_cycle(None)\n",
        "plt.plot(t_span, sol_opt[:,:len_c])\n",
        "plt.gca().set_prop_cycle(None)\n",
        "plt.plot(t_span, c_exp, 'x')\n",
        "plt.xlabel('t')\n",
        "plt.ylabel('c')\n",
        "plt.legend(('initial c_A', 'initial c_B', 'initial c_X', \n",
        "            'final c_A', 'final c_B', 'final c_X'), loc='upper right',ncol=2) # make a legend\n",
        "plt.grid()\n",
        "plt.show()"
      ],
      "metadata": {
        "id": "6oXKzhjsXncn"
      },
      "execution_count": null,
      "outputs": []
    },
    {
      "cell_type": "markdown",
      "metadata": {
        "id": "0CjNlpFpYZjW"
      },
      "source": [
        "### On New Data"
      ]
    },
    {
      "cell_type": "code",
      "execution_count": 37,
      "metadata": {
        "id": "ewcRf4C6YZjW"
      },
      "outputs": [],
      "source": [
        "# initial conditions for the concentrations in the reactor\n",
        "c_A0 = 0.3\n",
        "c_B0 = 0.7\n",
        "c_X0 = 0.1\n",
        "\n",
        "# assemble initial value vector\n",
        "c0 = [c_A0, c_B0, c_X0]\n",
        "len_c = len(c0)\n",
        "len_p = len(init_params)\n",
        "s0 = np.zeros((len_p*len_c))\n",
        "y0 = np.concatenate((c0,s0))"
      ]
    },
    {
      "cell_type": "code",
      "execution_count": null,
      "metadata": {
        "id": "HuJ0tiL0YZjX"
      },
      "outputs": [],
      "source": [
        "# generate experimental data\n",
        "# define system equations\n",
        "def dcdt_2(c, t, params):\n",
        "    \"\"\"Mechanistic part of the hybrid model (ODE system describing the time-dependent \n",
        "    concentrations in the reactor)\"\"\"\n",
        "    # disassemble input vector\n",
        "    c_A, c_B, c_X = c\n",
        "    # calculate reaction rates by neural network prediction\n",
        "    #r = neural_net_predict(params, c)\n",
        "    r = 0.08*c_A**0.7*c_B**1.3 # true underlying reaction rate\n",
        "    # system equations\n",
        "    dcdt = [(c_Ain-c_A)/tau - r,\n",
        "            (c_Bin-c_B)/tau - r,\n",
        "            (c_Xin-c_X)/tau + r]\n",
        "    return np.array(dcdt)\n",
        "\n",
        "params = []\n",
        "sol = odeint(dcdt_2, [c_A0, c_B0, c_X0], t_span, args=(params,))\n",
        "sol += 0.004*np.random.randn(len(t_span), 3)\n",
        "\n",
        "c_exp = sol\n",
        "\n",
        "plt.figure(0)\n",
        "plt.plot(t_span, sol,'x')\n",
        "plt.show()"
      ]
    },
    {
      "cell_type": "code",
      "execution_count": 39,
      "metadata": {
        "id": "Vr84gtjTYZjX"
      },
      "outputs": [],
      "source": [
        "sol_init = odeint(DiffEqs, y0, t_span, args=(init_params,))\n",
        "sol_opt = odeint(DiffEqs, y0, t_span, args=(optimized_params,))"
      ]
    },
    {
      "cell_type": "code",
      "execution_count": null,
      "metadata": {
        "id": "Bny4YnxXYZjY"
      },
      "outputs": [],
      "source": [
        "# plot system trajectories\n",
        "plt.figure(1)\n",
        "plt.plot(t_span, sol_init[:,:len_c],'--')\n",
        "plt.gca().set_prop_cycle(None)\n",
        "plt.plot(t_span, sol_opt[:,:len_c])\n",
        "plt.gca().set_prop_cycle(None)\n",
        "plt.plot(t_span, c_exp, 'x')\n",
        "plt.xlabel('t')\n",
        "plt.ylabel('c')\n",
        "plt.legend(('initial c_A', 'initial c_B', 'initial c_X', \n",
        "            'final c_A', 'final c_B', 'final c_X'), loc='upper right',ncol=2) # make a legend\n",
        "plt.grid()\n",
        "plt.savefig(\"CSTR_experimental_data_and_model_test\")\n",
        "plt.show()"
      ]
    }
  ]
}