{
  "nbformat": 4,
  "nbformat_minor": 0,
  "metadata": {
    "colab": {
      "name": "Exercise_2_KNN_classroom.ipynb",
      "provenance": [],
      "collapsed_sections": []
    },
    "kernelspec": {
      "name": "python3",
      "display_name": "Python 3"
    },
    "language_info": {
      "name": "python"
    }
  },
  "cells": [
    {
      "cell_type": "markdown",
      "source": [
        "$\\color{blue}{\\text{Import Libraries}}$"
      ],
      "metadata": {
        "id": "YMiI5CDX5JZ0"
      }
    },
    {
      "cell_type": "code",
      "source": [
        ""
      ],
      "metadata": {
        "id": "L8ffxRbo-rez"
      },
      "execution_count": null,
      "outputs": []
    },
    {
      "cell_type": "markdown",
      "source": [
        "$\\color{blue}{\\text{Get the Data}}$\n",
        "\n",
        "Set index_col=0 to use the first column as the index."
      ],
      "metadata": {
        "id": "oWmicwjH5Ksm"
      }
    },
    {
      "cell_type": "code",
      "source": [
        ""
      ],
      "metadata": {
        "id": "cpia0Dmq-uZD"
      },
      "execution_count": null,
      "outputs": []
    },
    {
      "cell_type": "markdown",
      "source": [
        "$\\color{blue}{\\text{Standardize the Input Features}}$\n",
        "\n",
        "The prediction performed by KNN is based on the distance measure between the point to be predicted and the set of the k nereast neighbours. This distance is naturally affected by the scale of the input features. Therefore, we need to scale all input features in order to give the same importance to all regardless of their original scale.\n",
        "\n",
        "Here, we will use the method known as standardization.\n",
        "\n",
        "$\\hat{x} = \\frac{x-\\mu_x}{\\sigma_x}$"
      ],
      "metadata": {
        "id": "iTfo1fwH7qMv"
      }
    },
    {
      "cell_type": "code",
      "source": [
        ""
      ],
      "metadata": {
        "id": "KZBEd6wi-tn_"
      },
      "execution_count": null,
      "outputs": []
    },
    {
      "cell_type": "markdown",
      "source": [
        "$\\color{blue}{\\text{Train Test Split}}$"
      ],
      "metadata": {
        "id": "h2uOyvKYB_QE"
      }
    },
    {
      "cell_type": "code",
      "source": [
        ""
      ],
      "metadata": {
        "id": "pI4lB_0B-y0I"
      },
      "execution_count": null,
      "outputs": []
    },
    {
      "cell_type": "markdown",
      "source": [
        "$\\color{blue}{\\text{Using KNN}}$"
      ],
      "metadata": {
        "id": "Ti0h11a7CjPs"
      }
    },
    {
      "cell_type": "code",
      "source": [
        ""
      ],
      "metadata": {
        "id": "bUvqRrZe-0xm"
      },
      "execution_count": null,
      "outputs": []
    },
    {
      "cell_type": "markdown",
      "source": [
        "$\\color{blue}{\\text{Predictions and Evaluations}}$\n",
        "\n",
        "Let's evaluate our KNN model!"
      ],
      "metadata": {
        "id": "M2EDTPLAHWit"
      }
    },
    {
      "cell_type": "code",
      "source": [
        ""
      ],
      "metadata": {
        "id": "kR02JN0u_pQO"
      },
      "execution_count": null,
      "outputs": []
    },
    {
      "cell_type": "markdown",
      "source": [
        "\n",
        "$\\color{blue}{\\text{The impact of k (Finding optimum value of k)}}$\n",
        "\n",
        "Let's now study what is the impact of the chosen number of neighbours in the accuracy of the model"
      ],
      "metadata": {
        "id": "uOnXu2eHHgUR"
      }
    },
    {
      "cell_type": "markdown",
      "source": [
        "This graph is pretty similar to the one that we saw on slide 9 of Lecture 2. Here, we can see the expected general trend of the performance curves. \n",
        "\n",
        "Which k do you think is the best?"
      ],
      "metadata": {
        "id": "kGhwzvOOHtd5"
      }
    },
    {
      "cell_type": "code",
      "source": [
        ""
      ],
      "metadata": {
        "id": "my-_H1Gt_trf"
      },
      "execution_count": null,
      "outputs": []
    },
    {
      "cell_type": "markdown",
      "source": [
        "$\\color{blue}{\\text{Cross Validation}}$"
      ],
      "metadata": {
        "id": "7VJZyifr-4nR"
      }
    },
    {
      "cell_type": "code",
      "source": [
        ""
      ],
      "metadata": {
        "id": "BWVyQArUBSF-"
      },
      "execution_count": null,
      "outputs": []
    },
    {
      "cell_type": "markdown",
      "source": [
        "$\\color{blue}{\\text{Finding optimum k using 'cross validation mean accuracy score vs k' diagram}}$\n"
      ],
      "metadata": {
        "id": "cQtyNEGDG4s1"
      }
    },
    {
      "cell_type": "code",
      "source": [
        ""
      ],
      "metadata": {
        "id": "1AKblannBVZp"
      },
      "execution_count": null,
      "outputs": []
    }
  ]
}