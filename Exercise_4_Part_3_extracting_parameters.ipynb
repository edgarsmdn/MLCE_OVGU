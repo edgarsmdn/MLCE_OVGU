{
  "nbformat": 4,
  "nbformat_minor": 0,
  "metadata": {
    "colab": {
      "name": "Exercise_4_Part_3_extracting parameters.ipynb",
      "provenance": []
    },
    "kernelspec": {
      "name": "python3",
      "display_name": "Python 3"
    },
    "language_info": {
      "name": "python"
    }
  },
  "cells": [
    {
      "cell_type": "code",
      "execution_count": 1,
      "metadata": {
        "id": "3H-thdYNB-Uh"
      },
      "outputs": [],
      "source": [
        "import keras\n",
        "import tensorflow as tf\n",
        "import pandas as pd\n",
        "import numpy as np\n",
        "from pandas import DataFrame"
      ]
    },
    {
      "cell_type": "code",
      "source": [
        "#loading the model\n",
        "model = keras.models.load_model('/content/best_model.h5')"
      ],
      "metadata": {
        "id": "tNCvmFjSCLA_"
      },
      "execution_count": 3,
      "outputs": []
    },
    {
      "cell_type": "code",
      "source": [
        "# saving all trained parameters in variables in desired format\n",
        "W_Input_Hidden1 = model.layers[0].get_weights()[0]\n",
        "B_Input_Hidden1 = model.layers[0].get_weights()[1]\n",
        "W_Hidden1_Hidden2 = model.layers[1].get_weights()[0]\n",
        "B_Hidden1_Hidden2 = model.layers[1].get_weights()[1]\n",
        "W_Hidden2_Output = model.layers[2].get_weights()[0]\n",
        "B_Hidden2_Output = model.layers[2].get_weights()[1]"
      ],
      "metadata": {
        "id": "bdk0_rhICboY"
      },
      "execution_count": 4,
      "outputs": []
    },
    {
      "cell_type": "code",
      "source": [
        "#extracting all weights into excel file\n",
        "W_Input_Hidden1 = DataFrame(W_Input_Hidden1)\n",
        "B_Input_Hidden1 = DataFrame(B_Input_Hidden1)\n",
        "W_Hidden1_Hidden2 = DataFrame(W_Hidden1_Hidden2)\n",
        "B_Hidden1_Hidden2 = DataFrame(B_Hidden1_Hidden2)\n",
        "W_Hidden2_Output = DataFrame(W_Hidden2_Output)\n",
        "B_Hidden2_Output = DataFrame(B_Hidden2_Output)"
      ],
      "metadata": {
        "id": "gEBAGe8mH94K"
      },
      "execution_count": 5,
      "outputs": []
    },
    {
      "cell_type": "code",
      "source": [
        "W_Input_Hidden1.to_csv('W_Input_Hidden1.csv')\n",
        "#similarly all the variables can be saved into excel file and downloaded in the local memory to be used later"
      ],
      "metadata": {
        "id": "JkwC9u2FJBkk"
      },
      "execution_count": 6,
      "outputs": []
    }
  ]
}