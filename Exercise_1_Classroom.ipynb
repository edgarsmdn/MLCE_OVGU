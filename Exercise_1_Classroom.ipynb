{
  "nbformat": 4,
  "nbformat_minor": 0,
  "metadata": {
    "colab": {
      "name": "Exercise_1_Classroom.ipynb",
      "provenance": [],
      "collapsed_sections": [
        "kw-r0zgwZMZp",
        "GbZf7UnIZNop",
        "DSC8jbPQpz18"
      ],
      "toc_visible": true
    },
    "kernelspec": {
      "name": "python3",
      "display_name": "Python 3"
    },
    "language_info": {
      "name": "python"
    },
    "accelerator": "GPU"
  },
  "cells": [
    {
      "cell_type": "markdown",
      "source": [
        "# Section 1: Mathematical Operations\n",
        "\n",
        "Mathematical operations are the key to design any chemical engineering process. In this Section, we will learn how to implement basic mathematical operations using python. In this complete course, we will be dealing with these matheamtical operations, so it is very important to understand how to implement these operations."
      ],
      "metadata": {
        "id": "kw-r0zgwZMZp"
      }
    },
    {
      "cell_type": "markdown",
      "source": [
        "$\\color{blue}{\\text{1.1: Basic Operations}}$"
      ],
      "metadata": {
        "id": "BamkGQh8xvek"
      }
    },
    {
      "cell_type": "code",
      "source": [
        ""
      ],
      "metadata": {
        "id": "HDeDr_ZMa4hO",
        "cellView": "code"
      },
      "execution_count": null,
      "outputs": []
    },
    {
      "cell_type": "markdown",
      "source": [
        "$\\color{blue}{\\text{1.2: Operator Preferences}}$"
      ],
      "metadata": {
        "id": "JqTciWfex8wm"
      }
    },
    {
      "cell_type": "code",
      "source": [
        ""
      ],
      "metadata": {
        "id": "1la8MASZz-Pe"
      },
      "execution_count": null,
      "outputs": []
    },
    {
      "cell_type": "markdown",
      "source": [
        "$\\color{blue}{\\text{1.3: Libraries for Mathematical Operations}}$"
      ],
      "metadata": {
        "id": "8nJdLDoqzIIL"
      }
    },
    {
      "cell_type": "code",
      "source": [
        ""
      ],
      "metadata": {
        "id": "19fQh9Yz0Axl"
      },
      "execution_count": null,
      "outputs": []
    },
    {
      "cell_type": "markdown",
      "source": [
        "$\\color{blue}{\\text{1.4: Arrays}}$"
      ],
      "metadata": {
        "id": "WvTamn05zgrw"
      }
    },
    {
      "cell_type": "code",
      "source": [
        ""
      ],
      "metadata": {
        "id": "vxoP1djy0KKW"
      },
      "execution_count": null,
      "outputs": []
    },
    {
      "cell_type": "markdown",
      "source": [
        "# Section 2: Data Types in Python\n",
        "When we work with any project it is very important to understand what type of  Data we are working with so that we can process the data in that format otherwise we might face errors and bugs in the code. Major data types are as follows: \n",
        "1.   None     \n",
        "2.   Numeric  \n",
        "3.   List\n",
        "4.   Tuple\n",
        "5.   Set\n",
        "6.   String\n",
        "7.   Range\n",
        "8.   Map / Dictionary\n",
        "\n"
      ],
      "metadata": {
        "id": "GbZf7UnIZNop"
      }
    },
    {
      "cell_type": "markdown",
      "source": [
        "$\\color{blue}{\\text{2.1: None}}$"
      ],
      "metadata": {
        "id": "092ODCJ9j2z3"
      }
    },
    {
      "cell_type": "code",
      "source": [
        ""
      ],
      "metadata": {
        "id": "jwQeBE6mj0r-"
      },
      "execution_count": null,
      "outputs": []
    },
    {
      "cell_type": "markdown",
      "source": [
        "$\\color{blue}{\\text{2.2: Numeric}}$\n",
        "\n",
        "In python numeric data type represents the data which has numeric value. Based on type of numeric values Numeric data type is of four types:\n",
        "\n",
        "$\\color{black}{\\text{2.2.1: int}}$\n",
        "\n",
        "$\\color{black}{\\text{2.2.2: float}}$\n",
        "\n",
        "$\\color{black}{\\text{2.2.3: complex}}$\n",
        "\n",
        "$\\color{black}{\\text{2.2.4: bool}}$\n",
        "\n",
        "\n"
      ],
      "metadata": {
        "id": "zZZCp58TlH8j"
      }
    },
    {
      "cell_type": "code",
      "source": [
        ""
      ],
      "metadata": {
        "id": "wpCxmZ7tpuRY"
      },
      "execution_count": null,
      "outputs": []
    },
    {
      "cell_type": "markdown",
      "source": [
        "$\\color{blue}{\\text{2.3: String}}$\n",
        "\n",
        "The string is a sequence of unicode characters and is defined as collection of 1 or more characters inside a quotation mark, double-quote or triple-quote."
      ],
      "metadata": {
        "id": "E7ofTUrdXNpW"
      }
    },
    {
      "cell_type": "code",
      "source": [
        ""
      ],
      "metadata": {
        "id": "hLW_wX6a0aGE"
      },
      "execution_count": null,
      "outputs": []
    },
    {
      "cell_type": "markdown",
      "source": [
        "$\\color{blue}{\\text{2.4: List}}$\n",
        "\n",
        "List is a collection of elements and each element can have any data type. "
      ],
      "metadata": {
        "id": "zrfPTvoYqrtn"
      }
    },
    {
      "cell_type": "code",
      "source": [
        ""
      ],
      "metadata": {
        "id": "-Uacr59r0e2O"
      },
      "execution_count": null,
      "outputs": []
    },
    {
      "cell_type": "markdown",
      "source": [
        "$\\color{blue}{\\text{2.5: Set}}$"
      ],
      "metadata": {
        "id": "xZJeeAXFrPmS"
      }
    },
    {
      "cell_type": "code",
      "source": [
        ""
      ],
      "metadata": {
        "id": "Fqn9jNf_rR1h"
      },
      "execution_count": null,
      "outputs": []
    },
    {
      "cell_type": "markdown",
      "source": [
        "$\\color{blue}{\\text{2.6: Tuple}}$\n",
        "\n",
        "They work same as lists but list are mutable where as tuples are immutable. We cannot use operations like .append, .insert, .extend etc. to modify tuple.\n",
        "\n",
        "**Tip:**\n",
        "\n",
        "*   If you need something that you can modify, use lists.\n",
        "*   If you just want something which you want to loop through or just access, use tuple.\n",
        "\n",
        "\n"
      ],
      "metadata": {
        "id": "PoV058u2rfO8"
      }
    },
    {
      "cell_type": "code",
      "source": [
        ""
      ],
      "metadata": {
        "id": "neQdzcNtrhaJ"
      },
      "execution_count": null,
      "outputs": []
    },
    {
      "cell_type": "markdown",
      "source": [
        "$\\color{blue}{\\text{2.7: Map/Dictionary}}$"
      ],
      "metadata": {
        "id": "IEnUYftO4ozg"
      }
    },
    {
      "cell_type": "code",
      "source": [
        ""
      ],
      "metadata": {
        "id": "W-U-NYcX0lbx"
      },
      "execution_count": null,
      "outputs": []
    },
    {
      "cell_type": "markdown",
      "source": [
        "# Section 3: Plotting and Visualization\n",
        "\n",
        "Data visualization is an important skill to possess for anyone trying to extract and communicate insights from data. In the field of machine learning, visualization plays a key role throughout the entire process of analysis. "
      ],
      "metadata": {
        "id": "SxD9oNB3YInf"
      }
    },
    {
      "cell_type": "markdown",
      "source": [
        "$\\color{blue}{\\text{3.1: Library for plots}}$"
      ],
      "metadata": {
        "id": "IHLoluSQZLyS"
      }
    },
    {
      "cell_type": "code",
      "source": [
        ""
      ],
      "metadata": {
        "id": "BGOJmX8TZKzm"
      },
      "execution_count": null,
      "outputs": []
    },
    {
      "cell_type": "markdown",
      "source": [
        "$\\color{blue}{\\text{3.2: Functional Plot}}$"
      ],
      "metadata": {
        "id": "Wp9Q73iFRKMD"
      }
    },
    {
      "cell_type": "code",
      "source": [
        ""
      ],
      "metadata": {
        "id": "zl62BbweRUwS"
      },
      "execution_count": null,
      "outputs": []
    },
    {
      "cell_type": "markdown",
      "source": [
        "$\\color{blue}{\\text{3.3: Multiple Plots}}$"
      ],
      "metadata": {
        "id": "tfLMJYg3VV2p"
      }
    },
    {
      "cell_type": "code",
      "source": [
        "\n"
      ],
      "metadata": {
        "id": "HamnY4kCVaIz"
      },
      "execution_count": null,
      "outputs": []
    },
    {
      "cell_type": "markdown",
      "source": [
        "$\\color{blue}{\\text{3.4: Figure Object}}$\n",
        "\n",
        "Figure is an object that contains all plots elements and can contain many axes inside one figure"
      ],
      "metadata": {
        "id": "bVdaiPHExvFU"
      }
    },
    {
      "cell_type": "code",
      "source": [
        "\n"
      ],
      "metadata": {
        "id": "B2FnJgOLwjDD"
      },
      "execution_count": null,
      "outputs": []
    },
    {
      "cell_type": "markdown",
      "source": [
        "$\\color{blue}{\\text{3.5: Subplots}}$"
      ],
      "metadata": {
        "id": "-7ao45Yv7RKP"
      }
    },
    {
      "cell_type": "code",
      "source": [
        ""
      ],
      "metadata": {
        "id": "Wdcg8FmqBVS2"
      },
      "execution_count": null,
      "outputs": []
    },
    {
      "cell_type": "markdown",
      "source": [
        "$\\color{blue}{\\text{3.6: Save Visualization to a File}}$"
      ],
      "metadata": {
        "id": "PI3EULCaEy-y"
      }
    },
    {
      "cell_type": "code",
      "source": [
        ""
      ],
      "metadata": {
        "id": "tpMCmyjoE_60"
      },
      "execution_count": null,
      "outputs": []
    },
    {
      "cell_type": "markdown",
      "source": [
        "$\\color{blue}{\\text{3.7: Pandas DataFrame}}$"
      ],
      "metadata": {
        "id": "euomaQCXA0mI"
      }
    },
    {
      "cell_type": "code",
      "source": [
        "\n"
      ],
      "metadata": {
        "id": "UqRY0d4tA7Q6"
      },
      "execution_count": null,
      "outputs": []
    },
    {
      "cell_type": "markdown",
      "source": [
        "$\\color{blue}{\\text{3.8: Scattered Plots}}$"
      ],
      "metadata": {
        "id": "Mth-8ZC2nDZK"
      }
    },
    {
      "cell_type": "code",
      "source": [
        "  \n"
      ],
      "metadata": {
        "id": "KCAVaka_nKE6"
      },
      "execution_count": null,
      "outputs": []
    },
    {
      "cell_type": "markdown",
      "source": [
        "$\\color{blue}{\\text{3.9: Histogram}}$\n",
        "\n",
        "\n",
        "*   Histograms are very oftenly used in Machine learning projects to visualise different type of data.\n",
        "*   Histogram needs one dimensional data as an input and it groups that data in bins (we choose bin size based on our requirements)  and visualize the frequency of each group.\n",
        "\n"
      ],
      "metadata": {
        "id": "2vVd-hcCo7oX"
      }
    },
    {
      "cell_type": "code",
      "source": [
        ""
      ],
      "metadata": {
        "id": "nwk_qa5q2qfZ"
      },
      "execution_count": null,
      "outputs": []
    },
    {
      "cell_type": "markdown",
      "source": [
        "$\\color{blue}{\\text{3.10: 3d Plots}}$"
      ],
      "metadata": {
        "id": "4sZ84YGZFLDi"
      }
    },
    {
      "cell_type": "code",
      "source": [
        ""
      ],
      "metadata": {
        "id": "EIE7_mFL08Gz"
      },
      "execution_count": null,
      "outputs": []
    },
    {
      "cell_type": "markdown",
      "source": [
        "# Section 4: Conditional Statements and loops"
      ],
      "metadata": {
        "id": "DSC8jbPQpz18"
      }
    },
    {
      "cell_type": "markdown",
      "source": [
        "$\\color{blue}{\\text{4.1: Conditionals}}$\n",
        "\n",
        "1. if\n",
        "2. if else\n",
        "3. if elif else\n",
        "4. nested if"
      ],
      "metadata": {
        "id": "yxHlhOM4fpAx"
      }
    },
    {
      "cell_type": "code",
      "source": [
        ""
      ],
      "metadata": {
        "id": "4_OGUKJs1HqU"
      },
      "execution_count": null,
      "outputs": []
    },
    {
      "cell_type": "markdown",
      "source": [
        "$\\color{blue}{\\text{4.2: Loops}}$\n",
        "\n",
        "1. for loop\n",
        "2. while loop"
      ],
      "metadata": {
        "id": "b_9gIDVAhgj5"
      }
    },
    {
      "cell_type": "code",
      "source": [
        ""
      ],
      "metadata": {
        "id": "dI5t4T67q5yU"
      },
      "execution_count": null,
      "outputs": []
    }
  ]
}