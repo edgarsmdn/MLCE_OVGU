{
  "nbformat": 4,
  "nbformat_minor": 0,
  "metadata": {
    "colab": {
      "name": "Exercise_1.ipynb",
      "provenance": [],
      "collapsed_sections": [
        "kw-r0zgwZMZp",
        "SxD9oNB3YInf"
      ]
    },
    "kernelspec": {
      "name": "python3",
      "display_name": "Python 3"
    },
    "language_info": {
      "name": "python"
    },
    "accelerator": "GPU"
  },
  "cells": [
    {
      "cell_type": "markdown",
      "source": [
        "# Section 1: Mathematical Operations\n",
        "\n",
        "Mathematical operations are the key to design any chemical engineering process. In this Section, we will learn how to implement basic mathematical operations using python. In this complete course, we will be dealing with these matheamtical operations, so it is very important to understand how to implement these operations."
      ],
      "metadata": {
        "id": "kw-r0zgwZMZp"
      }
    },
    {
      "cell_type": "markdown",
      "source": [
        "$\\color{blue}{\\text{1.1: Basic Operations}}$"
      ],
      "metadata": {
        "id": "BamkGQh8xvek"
      }
    },
    {
      "cell_type": "code",
      "source": [
        "#Assign values to variables with = operator\n",
        "#Variable name can only contain numbers, letters and underscore and can not start with number\n",
        "a = -4\n",
        "b = 6\n",
        "a = 3       #variable 'a' is defined two times but by default in python variable stores only the latest defined value\n",
        "print(a)    #print statements are used to show the values stored inside the variable"
      ],
      "metadata": {
        "id": "HDeDr_ZMa4hO",
        "cellView": "code",
        "colab": {
          "base_uri": "https://localhost:8080/"
        },
        "outputId": "205ec33e-fef9-4fba-ddb3-4ccd244b46ba"
      },
      "execution_count": 1,
      "outputs": [
        {
          "output_type": "stream",
          "name": "stdout",
          "text": [
            "3\n"
          ]
        }
      ]
    },
    {
      "cell_type": "code",
      "source": [
        "a + b       #it performs the operation \"addition\" but doesnot store the output"
      ],
      "metadata": {
        "id": "Mh-WdY0Wu05r",
        "colab": {
          "base_uri": "https://localhost:8080/"
        },
        "outputId": "ea0d1243-4295-4f3d-e479-3532289aa95a"
      },
      "execution_count": 2,
      "outputs": [
        {
          "output_type": "execute_result",
          "data": {
            "text/plain": [
              "9"
            ]
          },
          "metadata": {},
          "execution_count": 2
        }
      ]
    },
    {
      "cell_type": "code",
      "source": [
        "c = a + b   #it performs the operation \"addition\" and then also stores the output in variable named 'c' \n",
        "            #Note: when you run the code output window shows nothing, why?????"
      ],
      "metadata": {
        "id": "Ff77SppoAxb7"
      },
      "execution_count": 3,
      "outputs": []
    },
    {
      "cell_type": "code",
      "source": [
        "a - b    #subtraction\n",
        "a * b    #multiplication\n",
        "a / b    #division\n",
        "a**b     #exponent\n",
        "a//b     #floor division"
      ],
      "metadata": {
        "id": "WPfWORMJBkhw",
        "colab": {
          "base_uri": "https://localhost:8080/"
        },
        "outputId": "ec1f6966-10af-4204-a99f-a28c320f5a83"
      },
      "execution_count": 4,
      "outputs": [
        {
          "output_type": "execute_result",
          "data": {
            "text/plain": [
              "0"
            ]
          },
          "metadata": {},
          "execution_count": 4
        }
      ]
    },
    {
      "cell_type": "code",
      "source": [
        "#Imaginary numbers\n",
        "i = (-1)**0.5\n",
        "print(i)    #output is not exactly iota (imaginary number), why ??????\n",
        "print(i**2) #output will not be exactly -1, why ???????'"
      ],
      "metadata": {
        "id": "LWahJ5ScZC38",
        "colab": {
          "base_uri": "https://localhost:8080/"
        },
        "outputId": "f831c8c9-0c28-4edb-cac3-024f0d4f2947"
      },
      "execution_count": 5,
      "outputs": [
        {
          "output_type": "stream",
          "name": "stdout",
          "text": [
            "(6.123233995736766e-17+1j)\n",
            "(-1+1.2246467991473532e-16j)\n"
          ]
        }
      ]
    },
    {
      "cell_type": "markdown",
      "source": [
        "$\\color{blue}{\\text{1.2: Operator Preferences}}$"
      ],
      "metadata": {
        "id": "JqTciWfex8wm"
      }
    },
    {
      "cell_type": "code",
      "source": [
        "''' \n",
        "1. Paranthesis\n",
        "2. Exponent\n",
        "3. Negation\n",
        "4. Multiplication, Floor division and Division (Same preference, whichever written first from the left)\n",
        "5. Addition and Subtraction (Same preference)'''\n",
        "\n",
        "#Example set  \n",
        "a1 = -1**2\n",
        "a2 = (-1)**2\n",
        "\n",
        "a3 = -2*3//4\n",
        "a4 = -2*(3//4)\n",
        "\n",
        "#Note: you can practice writting random combination of any numbers and operations here and calculate it manually to cross check\n"
      ],
      "metadata": {
        "id": "PYJnydOIHdc3"
      },
      "execution_count": 6,
      "outputs": []
    },
    {
      "cell_type": "markdown",
      "source": [
        "$\\color{blue}{\\text{1.3: Libraries for Mathematical Operations}}$"
      ],
      "metadata": {
        "id": "8nJdLDoqzIIL"
      }
    },
    {
      "cell_type": "code",
      "source": [
        "import numpy as np       #in general practice all the libraries should be collected at the very start of project code\n",
        "import math\n",
        "print(np.log(2))\n",
        "print(math.log(2))\n",
        "print(np.log10(2))\n",
        "print(math.log10(2))\n",
        "print(np.sqrt(2))\n",
        "print(np.pi)\n",
        "np.sin(2)  #2 is in radians by default\n",
        "np.cos(2)\n",
        "np.tan(2)"
      ],
      "metadata": {
        "id": "eNDUWx-dajy9",
        "colab": {
          "base_uri": "https://localhost:8080/"
        },
        "outputId": "7fcf748a-b95c-4043-d632-591551067d22"
      },
      "execution_count": 7,
      "outputs": [
        {
          "output_type": "stream",
          "name": "stdout",
          "text": [
            "0.6931471805599453\n",
            "0.6931471805599453\n",
            "0.3010299956639812\n",
            "0.3010299956639812\n",
            "1.4142135623730951\n",
            "3.141592653589793\n"
          ]
        },
        {
          "output_type": "execute_result",
          "data": {
            "text/plain": [
              "-2.185039863261519"
            ]
          },
          "metadata": {},
          "execution_count": 7
        }
      ]
    },
    {
      "cell_type": "markdown",
      "source": [
        "$\\color{blue}{\\text{1.4: Arrays}}$"
      ],
      "metadata": {
        "id": "WvTamn05zgrw"
      }
    },
    {
      "cell_type": "code",
      "source": [
        "#manually creating array\n",
        "a = np.array([1,2,3,4,5]) #never use only one square bracket while defining any 'Array (matrix or vector)' manually\n",
        "a1 = np.array([[1,2,3,4,5]])\n",
        "print(a.shape)    #a.shape is used to check the shape of array 'a'\n",
        "print(a1.shape)          "
      ],
      "metadata": {
        "id": "t_8cPcB5zooW",
        "colab": {
          "base_uri": "https://localhost:8080/"
        },
        "outputId": "fc79556f-8c54-4404-b974-c55bf8e99139"
      },
      "execution_count": 8,
      "outputs": [
        {
          "output_type": "stream",
          "name": "stdout",
          "text": [
            "(5,)\n",
            "(1, 5)\n"
          ]
        }
      ]
    },
    {
      "cell_type": "code",
      "source": [
        "#Indexing in Python begins with 0 and not with 1, the following print command is going to return 1:\n",
        "a1 = np.array([[1,2,3,4,5]])\n",
        "print(a1[0,0])"
      ],
      "metadata": {
        "id": "NAVgPROtTbzn",
        "colab": {
          "base_uri": "https://localhost:8080/"
        },
        "outputId": "2f456e69-49ba-41ad-a53e-c14943907dfb"
      },
      "execution_count": 9,
      "outputs": [
        {
          "output_type": "stream",
          "name": "stdout",
          "text": [
            "1\n"
          ]
        }
      ]
    },
    {
      "cell_type": "code",
      "source": [
        "a = np.array([[1,2,3,4,5],[6,7,8,9,10]])  #a is two dimensional matrix\n",
        "b = a[0:2,1:4] \n",
        "print(b)\n",
        "b[0,1] = np.random.rand() # this will change both a and b!\n",
        "print(a)"
      ],
      "metadata": {
        "id": "GycoPyi9WCak",
        "colab": {
          "base_uri": "https://localhost:8080/"
        },
        "outputId": "7e7dd933-e240-404b-f18c-2a9d2e2fd795"
      },
      "execution_count": 10,
      "outputs": [
        {
          "output_type": "stream",
          "name": "stdout",
          "text": [
            "[[2 3 4]\n",
            " [7 8 9]]\n",
            "[[ 1  2  0  4  5]\n",
            " [ 6  7  8  9 10]]\n"
          ]
        }
      ]
    },
    {
      "cell_type": "code",
      "source": [
        "# make a copy like this:\n",
        "a = np.array([[1,2,3,4,5],[6,7,8,9,10]])\n",
        "c = np.array(a[0:2,1:4], copy=True) # copy=True can be omitted\n",
        "c[0,1] = np.random.rand() # changes only c\n",
        "print(a)"
      ],
      "metadata": {
        "id": "tBJq9AvVYliC",
        "colab": {
          "base_uri": "https://localhost:8080/"
        },
        "outputId": "99fc7ab0-f3b6-448d-b0b7-18952fc297ce"
      },
      "execution_count": 11,
      "outputs": [
        {
          "output_type": "stream",
          "name": "stdout",
          "text": [
            "[[ 1  2  3  4  5]\n",
            " [ 6  7  8  9 10]]\n"
          ]
        }
      ]
    },
    {
      "cell_type": "code",
      "source": [
        "b = np.array([[1,2,3,4,5],[6,7,8,9,10]])   \n",
        "c = np.array([[1,2,1,2,4],[3,2,6,1,3]]) \n",
        "d8 = np.dot(b,c)   #error why??????\n",
        "print(d8)"
      ],
      "metadata": {
        "id": "riMqi5334oDJ",
        "colab": {
          "base_uri": "https://localhost:8080/",
          "height": 252
        },
        "outputId": "6edbea05-3749-41d4-8808-1c376b8498ce"
      },
      "execution_count": 60,
      "outputs": [
        {
          "output_type": "error",
          "ename": "ValueError",
          "evalue": "ignored",
          "traceback": [
            "\u001b[0;31m---------------------------------------------------------------------------\u001b[0m",
            "\u001b[0;31mValueError\u001b[0m                                Traceback (most recent call last)",
            "\u001b[0;32m<ipython-input-60-3e43c7a74ef1>\u001b[0m in \u001b[0;36m<module>\u001b[0;34m()\u001b[0m\n\u001b[1;32m      1\u001b[0m \u001b[0mb\u001b[0m \u001b[0;34m=\u001b[0m \u001b[0mnp\u001b[0m\u001b[0;34m.\u001b[0m\u001b[0marray\u001b[0m\u001b[0;34m(\u001b[0m\u001b[0;34m[\u001b[0m\u001b[0;34m[\u001b[0m\u001b[0;36m1\u001b[0m\u001b[0;34m,\u001b[0m\u001b[0;36m2\u001b[0m\u001b[0;34m,\u001b[0m\u001b[0;36m3\u001b[0m\u001b[0;34m,\u001b[0m\u001b[0;36m4\u001b[0m\u001b[0;34m,\u001b[0m\u001b[0;36m5\u001b[0m\u001b[0;34m]\u001b[0m\u001b[0;34m,\u001b[0m\u001b[0;34m[\u001b[0m\u001b[0;36m6\u001b[0m\u001b[0;34m,\u001b[0m\u001b[0;36m7\u001b[0m\u001b[0;34m,\u001b[0m\u001b[0;36m8\u001b[0m\u001b[0;34m,\u001b[0m\u001b[0;36m9\u001b[0m\u001b[0;34m,\u001b[0m\u001b[0;36m10\u001b[0m\u001b[0;34m]\u001b[0m\u001b[0;34m]\u001b[0m\u001b[0;34m)\u001b[0m\u001b[0;34m\u001b[0m\u001b[0;34m\u001b[0m\u001b[0m\n\u001b[1;32m      2\u001b[0m \u001b[0mc\u001b[0m \u001b[0;34m=\u001b[0m \u001b[0mnp\u001b[0m\u001b[0;34m.\u001b[0m\u001b[0marray\u001b[0m\u001b[0;34m(\u001b[0m\u001b[0;34m[\u001b[0m\u001b[0;34m[\u001b[0m\u001b[0;36m1\u001b[0m\u001b[0;34m,\u001b[0m\u001b[0;36m2\u001b[0m\u001b[0;34m,\u001b[0m\u001b[0;36m1\u001b[0m\u001b[0;34m,\u001b[0m\u001b[0;36m2\u001b[0m\u001b[0;34m,\u001b[0m\u001b[0;36m4\u001b[0m\u001b[0;34m]\u001b[0m\u001b[0;34m,\u001b[0m\u001b[0;34m[\u001b[0m\u001b[0;36m3\u001b[0m\u001b[0;34m,\u001b[0m\u001b[0;36m2\u001b[0m\u001b[0;34m,\u001b[0m\u001b[0;36m6\u001b[0m\u001b[0;34m,\u001b[0m\u001b[0;36m1\u001b[0m\u001b[0;34m,\u001b[0m\u001b[0;36m3\u001b[0m\u001b[0;34m]\u001b[0m\u001b[0;34m]\u001b[0m\u001b[0;34m)\u001b[0m\u001b[0;34m\u001b[0m\u001b[0;34m\u001b[0m\u001b[0m\n\u001b[0;32m----> 3\u001b[0;31m \u001b[0md8\u001b[0m \u001b[0;34m=\u001b[0m \u001b[0mnp\u001b[0m\u001b[0;34m.\u001b[0m\u001b[0mdot\u001b[0m\u001b[0;34m(\u001b[0m\u001b[0mb\u001b[0m\u001b[0;34m,\u001b[0m\u001b[0mc\u001b[0m\u001b[0;34m)\u001b[0m   \u001b[0;31m#error why??????\u001b[0m\u001b[0;34m\u001b[0m\u001b[0;34m\u001b[0m\u001b[0m\n\u001b[0m\u001b[1;32m      4\u001b[0m \u001b[0mprint\u001b[0m\u001b[0;34m(\u001b[0m\u001b[0md8\u001b[0m\u001b[0;34m)\u001b[0m\u001b[0;34m\u001b[0m\u001b[0;34m\u001b[0m\u001b[0m\n",
            "\u001b[0;32m<__array_function__ internals>\u001b[0m in \u001b[0;36mdot\u001b[0;34m(*args, **kwargs)\u001b[0m\n",
            "\u001b[0;31mValueError\u001b[0m: shapes (2,5) and (2,5) not aligned: 5 (dim 1) != 2 (dim 0)"
          ]
        }
      ]
    },
    {
      "cell_type": "code",
      "source": [
        "c = c.reshape(5,2)     #how this is reshaped????\n",
        "d8 = np.dot(b,c)       \n",
        "print(d8)\n"
      ],
      "metadata": {
        "id": "iDOn_iAA5cbc",
        "colab": {
          "base_uri": "https://localhost:8080/"
        },
        "outputId": "6f51cca7-ada1-4746-c157-545c8b5e32c1"
      },
      "execution_count": 13,
      "outputs": [
        {
          "output_type": "stream",
          "name": "stdout",
          "text": [
            "[[ 28  54]\n",
            " [ 73 134]]\n"
          ]
        }
      ]
    },
    {
      "cell_type": "code",
      "source": [
        "#equally spaced value array\n",
        "a1 = np.linspace(start=0, stop=2, num=11)\n",
        "print(a1)\n",
        "print(a1.shape)    #by default it creates (11,) shape which needs to be reshaped using a1.reshape(11,1) or a1.reshape(1,11) as required\n"
      ],
      "metadata": {
        "id": "FKptuQuQA1I7",
        "colab": {
          "base_uri": "https://localhost:8080/"
        },
        "outputId": "7574315b-cce6-4324-ab78-a46150fef2e4"
      },
      "execution_count": 14,
      "outputs": [
        {
          "output_type": "stream",
          "name": "stdout",
          "text": [
            "[0.  0.2 0.4 0.6 0.8 1.  1.2 1.4 1.6 1.8 2. ]\n",
            "(11,)\n"
          ]
        }
      ]
    },
    {
      "cell_type": "code",
      "source": [
        "#Example\n",
        "T = np.linspace(300, 700, 3)  #T is temperature\n",
        "n = 2\n",
        "R = 8.314\n",
        "V = 10\n",
        "P = n*R*T/V             #Ideal gas law\n",
        "P"
      ],
      "metadata": {
        "id": "RsAoyvVzcel7",
        "colab": {
          "base_uri": "https://localhost:8080/"
        },
        "outputId": "e324cebb-1ff7-410c-d10d-acaf83db19d8"
      },
      "execution_count": 15,
      "outputs": [
        {
          "output_type": "execute_result",
          "data": {
            "text/plain": [
              "array([ 498.84,  831.4 , 1163.96])"
            ]
          },
          "metadata": {},
          "execution_count": 15
        }
      ]
    },
    {
      "cell_type": "code",
      "source": [
        "#randomly creating arrays of any size\n",
        "a1 = np.random.rand(2,4)"
      ],
      "metadata": {
        "id": "f8OuQbK0NnkQ"
      },
      "execution_count": 16,
      "outputs": []
    },
    {
      "cell_type": "code",
      "source": [
        "a =np.random.rand(4,2,3)  # Arrays (Matrices) with more than 2 dimensions has last dimesnion written at the start\n",
        "b = a.reshape(6,4,1)      # how it is reshaped??????\n",
        "print(a)\n",
        "print(b)"
      ],
      "metadata": {
        "id": "Ky4WzK1yZT_R",
        "colab": {
          "base_uri": "https://localhost:8080/"
        },
        "outputId": "14084047-08ab-4341-850a-a66e048391b8"
      },
      "execution_count": 17,
      "outputs": [
        {
          "output_type": "stream",
          "name": "stdout",
          "text": [
            "[[[0.86687675 0.98912441 0.23345126]\n",
            "  [0.3408341  0.94809996 0.62388727]]\n",
            "\n",
            " [[0.71169113 0.19195261 0.15663838]\n",
            "  [0.56652858 0.14572498 0.91306485]]\n",
            "\n",
            " [[0.76375571 0.53550387 0.22662652]\n",
            "  [0.21135493 0.92061991 0.68744578]]\n",
            "\n",
            " [[0.84450987 0.61671362 0.36901857]\n",
            "  [0.73861681 0.40777869 0.03889505]]]\n",
            "[[[0.86687675]\n",
            "  [0.98912441]\n",
            "  [0.23345126]\n",
            "  [0.3408341 ]]\n",
            "\n",
            " [[0.94809996]\n",
            "  [0.62388727]\n",
            "  [0.71169113]\n",
            "  [0.19195261]]\n",
            "\n",
            " [[0.15663838]\n",
            "  [0.56652858]\n",
            "  [0.14572498]\n",
            "  [0.91306485]]\n",
            "\n",
            " [[0.76375571]\n",
            "  [0.53550387]\n",
            "  [0.22662652]\n",
            "  [0.21135493]]\n",
            "\n",
            " [[0.92061991]\n",
            "  [0.68744578]\n",
            "  [0.84450987]\n",
            "  [0.61671362]]\n",
            "\n",
            " [[0.36901857]\n",
            "  [0.73861681]\n",
            "  [0.40777869]\n",
            "  [0.03889505]]]\n"
          ]
        }
      ]
    },
    {
      "cell_type": "code",
      "source": [
        "# Different operations on numpy Arrays\n",
        "a = np.random.rand(2,4)\n",
        "b = np.random.rand(4,3)\n",
        "c = np.random.rand(2,4)\n",
        "\n",
        "sum_op = a + c\n",
        "subtract = a - c\n",
        "multiply = a * c\n",
        "divide = a / c\n",
        "power = a**c\n",
        "floor = a//c\n",
        "dot_product = np.dot(a,b)\n",
        "transpose = np.transpose(a)\n",
        "constant_addition = a + 2\n",
        "concatenate = np.concatenate((a,c))     # sticks multiple arrays along one of the existing axis, by default axis = 0\n",
        "stack = np.stack((a,c))                 #sticks multiple arryas along the new axis\n",
        "a, c, concatenate, stack\n"
      ],
      "metadata": {
        "id": "BD7ztFMWFATt",
        "colab": {
          "base_uri": "https://localhost:8080/"
        },
        "outputId": "61eff3a0-1a72-4276-b971-5f2794385545"
      },
      "execution_count": 18,
      "outputs": [
        {
          "output_type": "execute_result",
          "data": {
            "text/plain": [
              "(array([[0.39200124, 0.49318433, 0.50534213, 0.87939154],\n",
              "        [0.68436229, 0.0353674 , 0.32161869, 0.2164548 ]]),\n",
              " array([[0.7604567 , 0.76613353, 0.46694782, 0.43633799],\n",
              "        [0.28729257, 0.41931145, 0.25743848, 0.04977642]]),\n",
              " array([[0.39200124, 0.49318433, 0.50534213, 0.87939154],\n",
              "        [0.68436229, 0.0353674 , 0.32161869, 0.2164548 ],\n",
              "        [0.7604567 , 0.76613353, 0.46694782, 0.43633799],\n",
              "        [0.28729257, 0.41931145, 0.25743848, 0.04977642]]),\n",
              " array([[[0.39200124, 0.49318433, 0.50534213, 0.87939154],\n",
              "         [0.68436229, 0.0353674 , 0.32161869, 0.2164548 ]],\n",
              " \n",
              "        [[0.7604567 , 0.76613353, 0.46694782, 0.43633799],\n",
              "         [0.28729257, 0.41931145, 0.25743848, 0.04977642]]]))"
            ]
          },
          "metadata": {},
          "execution_count": 18
        }
      ]
    },
    {
      "cell_type": "markdown",
      "source": [
        "# Section 2: Data Types in Python\n",
        "When we work with any project it is very important to understand what type of  Data we are working with so that we can process the data in that format otherwise we might face errors and bugs in the code. Major data types are as follows: \n",
        "1.   None     \n",
        "2.   Numeric  \n",
        "3.   List\n",
        "4.   Tuple\n",
        "5.   Set\n",
        "6.   String\n",
        "7.   Range\n",
        "8.   Map / Dictionary\n",
        "\n"
      ],
      "metadata": {
        "id": "GbZf7UnIZNop"
      }
    },
    {
      "cell_type": "markdown",
      "source": [
        "$\\color{blue}{\\text{2.1: None}}$"
      ],
      "metadata": {
        "id": "092ODCJ9j2z3"
      }
    },
    {
      "cell_type": "code",
      "source": [
        "a = None      #we never use this\n",
        "print(type(a))"
      ],
      "metadata": {
        "id": "jwQeBE6mj0r-",
        "colab": {
          "base_uri": "https://localhost:8080/"
        },
        "outputId": "624f1cd2-dd3f-4ee3-d221-74efa94000f0"
      },
      "execution_count": 19,
      "outputs": [
        {
          "output_type": "stream",
          "name": "stdout",
          "text": [
            "<class 'NoneType'>\n"
          ]
        }
      ]
    },
    {
      "cell_type": "markdown",
      "source": [
        "$\\color{blue}{\\text{2.2: Numeric}}$\n",
        "\n",
        "In python numeric data type represents the data which has numeric value. Based on type of numeric values Numeric data type is of four types:\n",
        "\n",
        "$\\color{black}{\\text{2.2.1: int}}$\n",
        "\n",
        "$\\color{black}{\\text{2.2.2: float}}$\n",
        "\n",
        "$\\color{black}{\\text{2.2.3: complex}}$\n",
        "\n",
        "$\\color{black}{\\text{2.2.4: bool}}$\n",
        "\n",
        "\n"
      ],
      "metadata": {
        "id": "zZZCp58TlH8j"
      }
    },
    {
      "cell_type": "code",
      "source": [
        "a = 2\n",
        "print(type(a))\n",
        "\n",
        "b = 3.5\n",
        "print(type(b))\n",
        "\n",
        "c = 6 + 7j\n",
        "print(type(c))"
      ],
      "metadata": {
        "id": "nSUa6d5JlFvw",
        "colab": {
          "base_uri": "https://localhost:8080/"
        },
        "outputId": "69eb2309-91d7-411e-8187-4da6b26d4b97"
      },
      "execution_count": 20,
      "outputs": [
        {
          "output_type": "stream",
          "name": "stdout",
          "text": [
            "<class 'int'>\n",
            "<class 'float'>\n",
            "<class 'complex'>\n"
          ]
        }
      ]
    },
    {
      "cell_type": "code",
      "source": [
        "a = 3.9\n",
        "b = int(a)   #converting float into int\n",
        "\n",
        "c = 2\n",
        "d = float(c)   #converting int into float\n",
        "\n",
        "k = 7\n",
        "m = complex(k)\n",
        "\n",
        "#Note: converting complex to float or complex to int (no sense)"
      ],
      "metadata": {
        "id": "E60y4dmgnXiI"
      },
      "execution_count": 21,
      "outputs": []
    },
    {
      "cell_type": "code",
      "source": [
        "a = 3\n",
        "b = 4\n",
        "c = a < b\n",
        "d = int(c)\n",
        "print(c)    # output is either True or False\n",
        "print(d)       # int(bool) outputs '1' for True and '0' for False"
      ],
      "metadata": {
        "id": "wpCxmZ7tpuRY",
        "colab": {
          "base_uri": "https://localhost:8080/"
        },
        "outputId": "61130f31-bbfa-4275-abea-861c0c4b80ab"
      },
      "execution_count": 22,
      "outputs": [
        {
          "output_type": "stream",
          "name": "stdout",
          "text": [
            "True\n",
            "1\n"
          ]
        }
      ]
    },
    {
      "cell_type": "markdown",
      "source": [
        "$\\color{blue}{\\text{2.3: String}}$\n",
        "\n",
        "The string is a sequence of unicode characters and is defined as collection of 1 or more characters inside a quotation mark, double-quote or triple-quote."
      ],
      "metadata": {
        "id": "E7ofTUrdXNpW"
      }
    },
    {
      "cell_type": "code",
      "source": [
        "a = 'Hello World'         # collection of unicode characters defined inside quotation mark\n",
        "b = \"1\"                   # collection of unicode characters defined inside double-quote mark\n",
        "c = '''2'''               # collection of unicode characters defined inside triple-quote mark\n",
        "print(type(a))\n",
        "print(type(b))\n",
        "print(type(c))\n",
        "a[5],a[-1]                 # way to access the elements of string"
      ],
      "metadata": {
        "id": "SXAGW-dIXRPX",
        "colab": {
          "base_uri": "https://localhost:8080/"
        },
        "outputId": "a05c5243-240d-4151-b449-b7fc9905798c"
      },
      "execution_count": 23,
      "outputs": [
        {
          "output_type": "stream",
          "name": "stdout",
          "text": [
            "<class 'str'>\n",
            "<class 'str'>\n",
            "<class 'str'>\n"
          ]
        },
        {
          "output_type": "execute_result",
          "data": {
            "text/plain": [
              "(' ', 'd')"
            ]
          },
          "metadata": {},
          "execution_count": 23
        }
      ]
    },
    {
      "cell_type": "code",
      "source": [
        "#concatenation of strings\n",
        "string1 = \"Hello\"\n",
        "string2 = \" World\"\n",
        "string = string1 + string2\n",
        "new_string = string1[0:3] + string2[-2]\n",
        "string, new_string"
      ],
      "metadata": {
        "id": "8ru31XGzXUH_",
        "colab": {
          "base_uri": "https://localhost:8080/"
        },
        "outputId": "96b43780-159d-43ba-91fc-7495a602a50f"
      },
      "execution_count": 24,
      "outputs": [
        {
          "output_type": "execute_result",
          "data": {
            "text/plain": [
              "('Hello World', 'Hell')"
            ]
          },
          "metadata": {},
          "execution_count": 24
        }
      ]
    },
    {
      "cell_type": "code",
      "source": [
        "#slicing of strings\n",
        "string1 = \"Hello\"\n",
        "a = string1[0]\n",
        "b = string1[2:4]\n",
        "c = string1[2:]\n",
        "a, b, c\n"
      ],
      "metadata": {
        "id": "gKb9es96XXt-",
        "colab": {
          "base_uri": "https://localhost:8080/"
        },
        "outputId": "313b44c8-92ad-438d-c90c-0b68fb8e669a"
      },
      "execution_count": 25,
      "outputs": [
        {
          "output_type": "execute_result",
          "data": {
            "text/plain": [
              "('H', 'll', 'llo')"
            ]
          },
          "metadata": {},
          "execution_count": 25
        }
      ]
    },
    {
      "cell_type": "markdown",
      "source": [
        "$\\color{blue}{\\text{2.4: List}}$\n",
        "\n",
        "List is a collection of elements and each element can have any data type. "
      ],
      "metadata": {
        "id": "zrfPTvoYqrtn"
      }
    },
    {
      "cell_type": "code",
      "source": [
        "a = [1,2,3,4]               #list is defined inside square brackets\n",
        "type(a), len(a), a[0], a[-1]\n",
        "\n",
        "#operations on numbered lists\n",
        "min(a)\n",
        "max(a)\n",
        "sum(a)"
      ],
      "metadata": {
        "id": "P68zpNIFqrCW",
        "colab": {
          "base_uri": "https://localhost:8080/"
        },
        "outputId": "5915779a-7e63-4f6c-af1c-29db16efcbeb"
      },
      "execution_count": 26,
      "outputs": [
        {
          "output_type": "execute_result",
          "data": {
            "text/plain": [
              "10"
            ]
          },
          "metadata": {},
          "execution_count": 26
        }
      ]
    },
    {
      "cell_type": "code",
      "source": [
        "courses = ['History', 'Math', 'Physics', 'Chemistry']\n",
        "courses.append('Arts')      #.append takes only one argument of what we want to add and adds it at the last of the list"
      ],
      "metadata": {
        "id": "jFHOwohTVkCp"
      },
      "execution_count": 27,
      "outputs": []
    },
    {
      "cell_type": "code",
      "source": [
        "courses = ['History', 'Math', 'Physics', 'Chemistry']\n",
        "courses.insert(1, 'Arts')      #.insert takes 2 arguments namely  'at which position'  in the list we want to add and 'what' we want to add"
      ],
      "metadata": {
        "id": "EISeVTGGZa6M"
      },
      "execution_count": 28,
      "outputs": []
    },
    {
      "cell_type": "code",
      "source": [
        "courses = ['History', 'Math', 'Physics', 'Chemistry']\n",
        "courses_2 = ['Arts', 'Commerce']\n",
        "courses.extend(courses_2)   #.extend simply adds all the elements of one list to another list at the last\n",
        "courses\n",
        "\n",
        "#other operations on list (Try yourself)  \n",
        "courses.pop()\n",
        "courses.reverse()\n",
        "b = courses.sort()               #sort the list in alphabetical order or ascending numeric order\n",
        "courses.sort(reverse=True)\n",
        "len(courses)     #returns the total number of elements in the list\n",
        "courses.index('Math',0,2)   #searches the index of 'Math' in course (list) from position 0 to position 2 (if specified)"
      ],
      "metadata": {
        "id": "ewgxxHw0ZdLr",
        "colab": {
          "base_uri": "https://localhost:8080/"
        },
        "outputId": "212d1b4c-cc43-4486-84eb-49969035918c"
      },
      "execution_count": 29,
      "outputs": [
        {
          "output_type": "execute_result",
          "data": {
            "text/plain": [
              "1"
            ]
          },
          "metadata": {},
          "execution_count": 29
        }
      ]
    },
    {
      "cell_type": "code",
      "source": [
        "#slicing of list is used to extract part of the list\n",
        "courses = ['History', 'Math', 'Physics', 'Chemistry']\n",
        "courses[:3], courses[2:], courses[2:4], courses[:]"
      ],
      "metadata": {
        "id": "HAR9Rc4L90eC",
        "colab": {
          "base_uri": "https://localhost:8080/"
        },
        "outputId": "201c686f-5e3f-403d-d40f-380e76399163"
      },
      "execution_count": 30,
      "outputs": [
        {
          "output_type": "execute_result",
          "data": {
            "text/plain": [
              "(['History', 'Math', 'Physics'],\n",
              " ['Physics', 'Chemistry'],\n",
              " ['Physics', 'Chemistry'],\n",
              " ['History', 'Math', 'Physics', 'Chemistry'])"
            ]
          },
          "metadata": {},
          "execution_count": 30
        }
      ]
    },
    {
      "cell_type": "code",
      "source": [
        "a = [\"One\", 2 , \"3\", [4, \"5\"],]\n",
        "type(a), type(a[0]), type(a[1]), type(a[2]), type(a[3]), type(a[3][0]), type(a[3][1])"
      ],
      "metadata": {
        "id": "YS5Ucq_LXgI5",
        "colab": {
          "base_uri": "https://localhost:8080/"
        },
        "outputId": "d52fb1fd-c40e-4c1f-c50a-b3b9267815d2"
      },
      "execution_count": 31,
      "outputs": [
        {
          "output_type": "execute_result",
          "data": {
            "text/plain": [
              "(list, str, int, str, list, int, str)"
            ]
          },
          "metadata": {},
          "execution_count": 31
        }
      ]
    },
    {
      "cell_type": "markdown",
      "source": [
        "$\\color{blue}{\\text{2.5: Set}}$"
      ],
      "metadata": {
        "id": "xZJeeAXFrPmS"
      }
    },
    {
      "cell_type": "code",
      "source": [
        "a = {1,2,3,4}                #set is defined inside curly brackets\n",
        "type(a)"
      ],
      "metadata": {
        "id": "Fqn9jNf_rR1h",
        "colab": {
          "base_uri": "https://localhost:8080/"
        },
        "outputId": "06adc4d3-4458-4424-aea8-24bf3617324b"
      },
      "execution_count": 32,
      "outputs": [
        {
          "output_type": "execute_result",
          "data": {
            "text/plain": [
              "set"
            ]
          },
          "metadata": {},
          "execution_count": 32
        }
      ]
    },
    {
      "cell_type": "markdown",
      "source": [
        "$\\color{blue}{\\text{2.6: Tuple}}$\n",
        "\n",
        "They work same as lists but list are mutable where as tuples are immutable. We cannot use operations like .append, .insert, .extend etc. to modify tuple.\n",
        "\n",
        "**Tip:**\n",
        "\n",
        "*   If you need something that you can modify, use lists.\n",
        "*   If you just want something which you want to loop through or just access, use tuple.\n",
        "\n",
        "\n"
      ],
      "metadata": {
        "id": "PoV058u2rfO8"
      }
    },
    {
      "cell_type": "code",
      "source": [
        "a = (1,2,3,4)     #tuple is defined inside open brackets\n",
        "type(a), a[0], a[-2]"
      ],
      "metadata": {
        "id": "neQdzcNtrhaJ",
        "colab": {
          "base_uri": "https://localhost:8080/"
        },
        "outputId": "5f79e1de-d26a-494c-d50c-0d116f8c3b12"
      },
      "execution_count": 33,
      "outputs": [
        {
          "output_type": "execute_result",
          "data": {
            "text/plain": [
              "(tuple, 1, 3)"
            ]
          },
          "metadata": {},
          "execution_count": 33
        }
      ]
    },
    {
      "cell_type": "markdown",
      "source": [
        "$\\color{blue}{\\text{2.7: Map/Dictionary}}$"
      ],
      "metadata": {
        "id": "IEnUYftO4ozg"
      }
    },
    {
      "cell_type": "code",
      "source": [
        "data = {1:'Maths', 2:'Chemistry', 4: 'Physics'}         #Each element of dictionary has a key and a value\n",
        "data[1], data.get(3), data.get(3, 'Not Found'), "
      ],
      "metadata": {
        "id": "_ccTvgu84p4a",
        "colab": {
          "base_uri": "https://localhost:8080/"
        },
        "outputId": "aecaeaa7-21c4-4205-a6c3-7435f5d26ee0"
      },
      "execution_count": 34,
      "outputs": [
        {
          "output_type": "execute_result",
          "data": {
            "text/plain": [
              "('Maths', None, 'Not Found')"
            ]
          },
          "metadata": {},
          "execution_count": 34
        }
      ]
    },
    {
      "cell_type": "code",
      "source": [
        "keys = ['Maths','Chemistry','Physics']      \n",
        "values = ['Python','Java','C++']\n",
        "data = dict(zip(keys,values))\n",
        "data\n",
        "#we can combine two lists to make a dictionary\n",
        "#we can pass specific key to dictionary and it will retuen its value but vice versa is not"
      ],
      "metadata": {
        "id": "p8AW4TzxOF2w",
        "colab": {
          "base_uri": "https://localhost:8080/"
        },
        "outputId": "6ccd3fe7-7d61-4a5b-f797-81595677c219"
      },
      "execution_count": 35,
      "outputs": [
        {
          "output_type": "execute_result",
          "data": {
            "text/plain": [
              "{'Chemistry': 'Java', 'Maths': 'Python', 'Physics': 'C++'}"
            ]
          },
          "metadata": {},
          "execution_count": 35
        }
      ]
    },
    {
      "cell_type": "markdown",
      "source": [
        "# Section 3: Plotting and Visualization\n",
        "\n",
        "Data visualization is an important skill to possess for anyone trying to extract and communicate insights from data. In the field of machine learning, visualization plays a key role throughout the entire process of analysis. "
      ],
      "metadata": {
        "id": "SxD9oNB3YInf"
      }
    },
    {
      "cell_type": "markdown",
      "source": [
        "$\\color{blue}{\\text{3.1: Library for plots}}$"
      ],
      "metadata": {
        "id": "IHLoluSQZLyS"
      }
    },
    {
      "cell_type": "code",
      "source": [
        "import numpy as np\n",
        "import matplotlib.pyplot as plt           #Library for plots\n",
        "import pandas as pd                       #Library for Data importing and handling\n",
        "                                          # Note: Always collect all libraries at the very beginning of the complete code"
      ],
      "metadata": {
        "id": "BGOJmX8TZKzm"
      },
      "execution_count": 36,
      "outputs": []
    },
    {
      "cell_type": "markdown",
      "source": [
        "$\\color{blue}{\\text{3.2: Functional Plot}}$"
      ],
      "metadata": {
        "id": "Wp9Q73iFRKMD"
      }
    },
    {
      "cell_type": "code",
      "source": [
        "x = np.linspace(0,10,11)\n",
        "y = x**2\n",
        "plt.plot(x,y)\n",
        "plt.title('x vs y')\n",
        "plt.xlabel('x')\n",
        "plt.ylabel('y')\n",
        "plt.show()            #need to use this statement to show the plot in output window if you are not using google colab or jupyter"
      ],
      "metadata": {
        "id": "zl62BbweRUwS",
        "colab": {
          "base_uri": "https://localhost:8080/",
          "height": 295
        },
        "outputId": "12080ccb-a719-403c-87d0-f867a1eb1d26"
      },
      "execution_count": 37,
      "outputs": [
        {
          "output_type": "display_data",
          "data": {
            "text/plain": [
              "<Figure size 432x288 with 1 Axes>"
            ],
            "image/png": "[encoded data removed]"
          },
          "metadata": {
            "needs_background": "light"
          }
        }
      ]
    },
    {
      "cell_type": "markdown",
      "source": [
        "$\\color{blue}{\\text{3.3: Multiple Plots}}$"
      ],
      "metadata": {
        "id": "tfLMJYg3VV2p"
      }
    },
    {
      "cell_type": "code",
      "source": [
        "plt.subplot(2,2,1)    \n",
        "plt.plot(x,y,'r')\n",
        "plt.subplot(2,2,2)\n",
        "plt.plot(x,y,'b')\n",
        "plt.subplot(2,2,3)\n",
        "plt.plot(y,x,color ='orange')\n",
        "plt.subplot(2,2,4)\n",
        "plt.plot(y,x**2,'y')\n"
      ],
      "metadata": {
        "id": "HamnY4kCVaIz",
        "colab": {
          "base_uri": "https://localhost:8080/",
          "height": 282
        },
        "outputId": "67a8208c-c5da-4744-91c1-a0acacf6da9d"
      },
      "execution_count": 38,
      "outputs": [
        {
          "output_type": "execute_result",
          "data": {
            "text/plain": [
              "[<matplotlib.lines.Line2D at 0x7f48d0168b90>]"
            ]
          },
          "metadata": {},
          "execution_count": 38
        },
        {
          "output_type": "display_data",
          "data": {
            "text/plain": [
              "<Figure size 432x288 with 4 Axes>"
            ],
            "image/png": "[encoded data removed]"
          },
          "metadata": {
            "needs_background": "light"
          }
        }
      ]
    },
    {
      "cell_type": "markdown",
      "source": [
        "$\\color{blue}{\\text{3.4: Figure Object}}$\n",
        "\n",
        "Figure is an object that contains all plots elements and can contain many axes inside one figure"
      ],
      "metadata": {
        "id": "bVdaiPHExvFU"
      }
    },
    {
      "cell_type": "code",
      "source": [
        "plot_1 = plt.figure(figsize=(5,4), dpi=100)\n",
        "axes_1 = plot_1.add_axes([0,0,1,1])\n",
        "axes_1.set_xlabel('X')\n",
        "axes_1.set_ylabel('Y')\n",
        "axes_1.set_title('X vs Y')\n",
        "axes_1.plot(x, y, label='x/x^2', color='navy', alpha=.75, lw=2, ls='-.', marker='o', markersize=7, markeredgecolor='y', markeredgewidth=4)\n",
        "axes_1.plot(y,x,label = 'x^2/x')\n",
        "axes_1.legend(loc=0)\n",
        "\n",
        "axes_2 = plot_1.add_axes([0.45,0.45,0.4,0.3])\n",
        "axes_2.plot(x,y,'r')\n",
        "#you can also zoom in part of the figure by setting xlimit and ylimit using axes_2.setxlimit and axes_2.setylimit\n",
        "#you can change the background using axes_2.grid(), take help from google to see the arguments to be passed\n"
      ],
      "metadata": {
        "id": "B2FnJgOLwjDD",
        "colab": {
          "base_uri": "https://localhost:8080/",
          "height": 519
        },
        "outputId": "a9e44f30-4d31-48e4-9042-4b18829f2eb1"
      },
      "execution_count": 39,
      "outputs": [
        {
          "output_type": "execute_result",
          "data": {
            "text/plain": [
              "[<matplotlib.lines.Line2D at 0x7f48d000c950>]"
            ]
          },
          "metadata": {},
          "execution_count": 39
        },
        {
          "output_type": "display_data",
          "data": {
            "text/plain": [
              "<Figure size 500x400 with 2 Axes>"
            ],
            "image/png": "[encoded data removed]"
          },
          "metadata": {
            "needs_background": "light"
          }
        }
      ]
    },
    {
      "cell_type": "markdown",
      "source": [
        "$\\color{blue}{\\text{3.5: Subplots}}$"
      ],
      "metadata": {
        "id": "-7ao45Yv7RKP"
      }
    },
    {
      "cell_type": "code",
      "source": [
        "plot_2, axes_2 = plt.subplots(figsize = (8,4),nrows=1,ncols=3)\n",
        "plt.tight_layout\n",
        "axes_2[0].set_title('fig 1')\n",
        "axes_2[0].set_xlabel('X')\n",
        "axes_2[0].set_ylabel('Y')\n",
        "axes_2[0].plot(x,y,'r')\n",
        "\n",
        "axes_2[1].set_title('fig 2')\n",
        "axes_2[1].set_xlabel('X')\n",
        "axes_2[1].set_ylabel('Y')\n",
        "axes_2[1].plot(x,y,'b')"
      ],
      "metadata": {
        "id": "Wdcg8FmqBVS2",
        "colab": {
          "base_uri": "https://localhost:8080/",
          "height": 312
        },
        "outputId": "87e39c38-6e48-4044-de4f-cb60d51c7dc3"
      },
      "execution_count": 40,
      "outputs": [
        {
          "output_type": "execute_result",
          "data": {
            "text/plain": [
              "[<matplotlib.lines.Line2D at 0x7f48cff12290>]"
            ]
          },
          "metadata": {},
          "execution_count": 40
        },
        {
          "output_type": "display_data",
          "data": {
            "text/plain": [
              "<Figure size 576x288 with 3 Axes>"
            ],
            "image/png": "[encoded data removed]"
          },
          "metadata": {
            "needs_background": "light"
          }
        }
      ]
    },
    {
      "cell_type": "markdown",
      "source": [
        "$\\color{blue}{\\text{3.6: Save Visualization to a File}}$"
      ],
      "metadata": {
        "id": "PI3EULCaEy-y"
      }
    },
    {
      "cell_type": "code",
      "source": [
        "plot_2.savefig('1st plot.pdf')"
      ],
      "metadata": {
        "id": "tpMCmyjoE_60"
      },
      "execution_count": 41,
      "outputs": []
    },
    {
      "cell_type": "markdown",
      "source": [
        "$\\color{blue}{\\text{3.7: Pandas DataFrame}}$"
      ],
      "metadata": {
        "id": "euomaQCXA0mI"
      }
    },
    {
      "cell_type": "code",
      "source": [
        "import numpy as np\n",
        "import matplotlib.pyplot as plt           #Library for plots\n",
        "import pandas as pd   \n",
        "data = pd.read_excel('/content/raw_data.xlsx')        #Note: download this data file from elearning\n",
        "data.sort_values(by = 'materials')            #very useful to readjust the data in desired format\n",
        "print(data)\n",
        "data_array = np.array(data)"
      ],
      "metadata": {
        "id": "UqRY0d4tA7Q6",
        "colab": {
          "base_uri": "https://localhost:8080/"
        },
        "outputId": "1a5f5ebe-5158-442c-e913-45dc91753479"
      },
      "execution_count": 42,
      "outputs": [
        {
          "output_type": "stream",
          "name": "stdout",
          "text": [
            "           materials  materials_index  temperature       adsorbate  \\\n",
            "0         Co3(HCOO)6              269           77        nitrogen   \n",
            "1         Co3(HCOO)6              269           77        hydrogen   \n",
            "2               CCT1              182           77        nitrogen   \n",
            "3      HKUST-1@PS_63              408           77        nitrogen   \n",
            "4           ED-ZIF-8              341           77        nitrogen   \n",
            "...              ...              ...          ...             ...   \n",
            "13943          CuBTC              310          298         propene   \n",
            "13944          MOF-1              552          273         methane   \n",
            "13945          MOF-1              552          273  carbon dioxide   \n",
            "13946          MOF-1              552          298  carbon dioxide   \n",
            "13947     Zeolite 5A              976          273        nitrogen   \n",
            "\n",
            "       adsorbate_index          adsorbateTP  adsorbateT_index    loading  \n",
            "0                   10         nitrogen77_0                69   3.226507  \n",
            "1                    7         hydrogen77_0                45   3.226507  \n",
            "2                   10         nitrogen77_0                69   1.980001  \n",
            "3                   10         nitrogen77_0                69  16.720497  \n",
            "4                   10         nitrogen77_0                69  19.060400  \n",
            "...                ...                  ...               ...        ...  \n",
            "13943               13         propene298_3                83  10.612211  \n",
            "13944                9         methane273_3                53  13.936195  \n",
            "13945                3  carbon dioxide273_3                14  37.003674  \n",
            "13946                3  carbon dioxide298_3                17  21.397200  \n",
            "13947               10        nitrogen273_3                62  10.307165  \n",
            "\n",
            "[13948 rows x 8 columns]\n"
          ]
        }
      ]
    },
    {
      "cell_type": "markdown",
      "source": [
        "$\\color{blue}{\\text{3.8: Scattered Plots}}$"
      ],
      "metadata": {
        "id": "Mth-8ZC2nDZK"
      }
    },
    {
      "cell_type": "code",
      "source": [
        "x = data_array[:,1]\n",
        "y = data_array[:,4]\n",
        "plt.scatter(x,y)\n",
        "plt.title('Material_Index vs Adsorbate_Index')\n",
        "plt.xlabel('Material_Index')\n",
        "plt.ylabel('Adsorbate_iNDEX')\n",
        "plt.show()   \n"
      ],
      "metadata": {
        "id": "KCAVaka_nKE6",
        "colab": {
          "base_uri": "https://localhost:8080/",
          "height": 296
        },
        "outputId": "8f74f0b4-23ac-4d9b-e8a9-11d83d5a78b6"
      },
      "execution_count": 43,
      "outputs": [
        {
          "output_type": "display_data",
          "data": {
            "text/plain": [
              "<Figure size 432x288 with 1 Axes>"
            ],
            "image/png": "[encoded data removed]"
          },
          "metadata": {
            "needs_background": "light"
          }
        }
      ]
    },
    {
      "cell_type": "code",
      "source": [
        "x = np.linspace(0,10)\n",
        "y = x\n",
        "original = np.array([[1.2,2.3,4.5,6.7,7.9]])\n",
        "predicted = np.array([[1.1,2.29,4.1,6.2,8.9]])\n",
        "plt.plot(x,y,'r')\n",
        "plt.scatter(original,predicted)\n",
        "plt.title('original vs predicted')\n",
        "plt.xlabel('original')\n",
        "plt.ylabel('predeicted')\n",
        "plt.show() "
      ],
      "metadata": {
        "id": "kW_lyMs-nN2l",
        "colab": {
          "base_uri": "https://localhost:8080/",
          "height": 295
        },
        "outputId": "5318888a-107a-4896-a5e2-53006966f58b"
      },
      "execution_count": 44,
      "outputs": [
        {
          "output_type": "display_data",
          "data": {
            "text/plain": [
              "<Figure size 432x288 with 1 Axes>"
            ],
            "image/png": "[encoded data removed]"
          },
          "metadata": {
            "needs_background": "light"
          }
        }
      ]
    },
    {
      "cell_type": "markdown",
      "source": [
        "$\\color{blue}{\\text{3.9: Histogram}}$\n",
        "\n",
        "\n",
        "*   Histograms are very oftenly used in Machine learning projects to visualise different type of data.\n",
        "*   Histogram needs one dimensional data as an input and it groups that data in bins (we choose bin size based on our requirements)  and visualize the frequency of each group.\n",
        "\n"
      ],
      "metadata": {
        "id": "2vVd-hcCo7oX"
      }
    },
    {
      "cell_type": "code",
      "source": [
        "#example 1: sugar level of different number of people\n",
        "sugar_level = [113,85,90,150,147,81,95,113,132,87,72,80,129]\n",
        "N = 5   #length of each bin\n",
        "number_of_bins = int((max(sugar_level) - min(sugar_level))/N)\n",
        "print(number_of_bins)\n",
        "plt.hist(sugar_level, bins=number_of_bins)"
      ],
      "metadata": {
        "id": "iZIuaMSPpDQv",
        "colab": {
          "base_uri": "https://localhost:8080/",
          "height": 352
        },
        "outputId": "53e463aa-d260-4433-85ed-e75274583c5d"
      },
      "execution_count": 45,
      "outputs": [
        {
          "output_type": "stream",
          "name": "stdout",
          "text": [
            "15\n"
          ]
        },
        {
          "output_type": "execute_result",
          "data": {
            "text/plain": [
              "(array([1., 2., 2., 1., 1., 0., 0., 2., 0., 0., 1., 1., 0., 0., 2.]),\n",
              " array([ 72. ,  77.2,  82.4,  87.6,  92.8,  98. , 103.2, 108.4, 113.6,\n",
              "        118.8, 124. , 129.2, 134.4, 139.6, 144.8, 150. ]),\n",
              " <a list of 15 Patch objects>)"
            ]
          },
          "metadata": {},
          "execution_count": 45
        },
        {
          "output_type": "display_data",
          "data": {
            "text/plain": [
              "<Figure size 432x288 with 1 Axes>"
            ],
            "image/png": "[encoded data removed]"
          },
          "metadata": {
            "needs_background": "light"
          }
        }
      ]
    },
    {
      "cell_type": "code",
      "source": [
        "#example 2: error data\n",
        "a = np.array([1.2,2.4,3.6,4.8,6,7.2,3.4,2.323,3.77])\n",
        "b = np.array([1.1,2.39,3.57,4.67,6.2,7.23,3.41,2.32,3.768])\n",
        "c = a-b\n",
        "N = 0.01\n",
        "number_of_bins = int((max(c) - min(c))/N)\n",
        "c\n",
        "plt.hist(c, bins=number_of_bins)    #you can learn how to add more details by yourself by passing more arguments"
      ],
      "metadata": {
        "id": "nwk_qa5q2qfZ",
        "colab": {
          "base_uri": "https://localhost:8080/",
          "height": 473
        },
        "outputId": "abcfcf36-02f4-4bb1-ac1d-f41486fc8d53"
      },
      "execution_count": 46,
      "outputs": [
        {
          "output_type": "execute_result",
          "data": {
            "text/plain": [
              "(array([1., 0., 0., 0., 0., 0., 0., 0., 0., 0., 0., 0., 0., 0., 0., 0., 1.,\n",
              "        0., 1., 0., 3., 0., 0., 1., 0., 0., 0., 0., 0., 0., 1., 0., 1.]),\n",
              " array([-2.00000000e-01, -1.90000000e-01, -1.80000000e-01, -1.70000000e-01,\n",
              "        -1.60000000e-01, -1.50000000e-01, -1.40000000e-01, -1.30000000e-01,\n",
              "        -1.20000000e-01, -1.10000000e-01, -1.00000000e-01, -9.00000000e-02,\n",
              "        -8.00000000e-02, -7.00000000e-02, -6.00000000e-02, -5.00000000e-02,\n",
              "        -4.00000000e-02, -3.00000000e-02, -2.00000000e-02, -1.00000000e-02,\n",
              "        -1.38777878e-16,  1.00000000e-02,  2.00000000e-02,  3.00000000e-02,\n",
              "         4.00000000e-02,  5.00000000e-02,  6.00000000e-02,  7.00000000e-02,\n",
              "         8.00000000e-02,  9.00000000e-02,  1.00000000e-01,  1.10000000e-01,\n",
              "         1.20000000e-01,  1.30000000e-01]),\n",
              " <a list of 33 Patch objects>)"
            ]
          },
          "metadata": {},
          "execution_count": 46
        },
        {
          "output_type": "display_data",
          "data": {
            "text/plain": [
              "<Figure size 432x288 with 1 Axes>"
            ],
            "image/png": "[encoded data removed]"
          },
          "metadata": {
            "needs_background": "light"
          }
        }
      ]
    },
    {
      "cell_type": "markdown",
      "source": [
        "$\\color{blue}{\\text{3.10: 3d Plots}}$"
      ],
      "metadata": {
        "id": "4sZ84YGZFLDi"
      }
    },
    {
      "cell_type": "code",
      "source": [
        "%matplotlib inline\n",
        "import numpy as np\n",
        "import matplotlib.pyplot as plt\n",
        "from mpl_toolkits import mplot3d\n",
        "from matplotlib import cm"
      ],
      "metadata": {
        "id": "RFgaqivqFctI"
      },
      "execution_count": 47,
      "outputs": []
    },
    {
      "cell_type": "code",
      "source": [
        "fig = plt.figure(figsize=[12,8])\n",
        "ax = fig.gca(projection='3d')\n",
        "plt.show()"
      ],
      "metadata": {
        "id": "5gZSPMG_HB4z",
        "colab": {
          "base_uri": "https://localhost:8080/",
          "height": 466
        },
        "outputId": "38d5c72d-9570-40cd-d1a7-e36fcb3661a5"
      },
      "execution_count": 48,
      "outputs": [
        {
          "output_type": "display_data",
          "data": {
            "text/plain": [
              "<Figure size 864x576 with 1 Axes>"
            ],
            "image/png": "[encoded data removed]"
          },
          "metadata": {
            "needs_background": "light"
          }
        }
      ]
    },
    {
      "cell_type": "code",
      "source": [
        "# Data for a three-dimensional line\n",
        "fig = plt.figure(figsize=[12,8])\n",
        "ax = fig.gca(projection='3d')\n",
        "z = np.linspace(0, 15, 1000)\n",
        "x = np.sin(z)\n",
        "y = np.cos(z)\n",
        "ax.plot3D(x, y, z, 'gray')\n",
        "\n",
        "# Data for three-dimensional scattered points\n",
        "z1 = 15 * np.random.random(100)\n",
        "x1 = np.sin(z1) + 0.1 * np.random.randn(100)\n",
        "y1 = np.cos(z1) + 0.1 * np.random.randn(100)\n",
        "ax.scatter3D(x1, y1, z1, c=z1, cmap='Greens');\n",
        "#ax.view_init(35, 0)      # to adjust the angle of view\n",
        "fig = plt.figure(figsize=[12,8])"
      ],
      "metadata": {
        "id": "PMy5a10UJcAn",
        "colab": {
          "base_uri": "https://localhost:8080/",
          "height": 483
        },
        "outputId": "c6b81f2f-733f-4402-d679-4ef3eebfdc98"
      },
      "execution_count": 49,
      "outputs": [
        {
          "output_type": "display_data",
          "data": {
            "text/plain": [
              "<Figure size 864x576 with 1 Axes>"
            ],
            "image/png": "[encoded data removed]"
          },
          "metadata": {
            "needs_background": "light"
          }
        },
        {
          "output_type": "display_data",
          "data": {
            "text/plain": [
              "<Figure size 864x576 with 0 Axes>"
            ]
          },
          "metadata": {}
        }
      ]
    },
    {
      "cell_type": "code",
      "source": [
        "f = lambda x,y: np.sin(x) * np.cos(y)       #lambda is a small function which can take any number of arguments but can include only one expression\n",
        "x = np.linspace(-2,2,10)\n",
        "y = np.linspace(-2,2,10)\n",
        "X,Y = np.meshgrid(x,y)\n",
        "F = f(X,Y)\n",
        "\n",
        "def plot(L,M):\n",
        "  fig = plt.figure(figsize=[12,8])\n",
        "  ax = fig.gca(projection='3d')\n",
        "  ax.view_init(L,M)\n",
        "  ax.plot_surface(X, Y, F, cmap=cm.coolwarm)\n",
        "plot(0,30)\n",
        "# To learn more about 3d plots follow the link (ctrl + click) https://colab.research.google.com/github/jakevdp/PythonDataScienceHandbook/blob/master/notebooks/04.12-Three-Dimensional-Plotting.ipynb"
      ],
      "metadata": {
        "id": "i7muucxlBehk",
        "colab": {
          "base_uri": "https://localhost:8080/",
          "height": 466
        },
        "outputId": "89f46e3c-3d29-443c-9663-0ef49c8b02b1"
      },
      "execution_count": 50,
      "outputs": [
        {
          "output_type": "display_data",
          "data": {
            "text/plain": [
              "<Figure size 864x576 with 1 Axes>"
            ],
            "image/png": "[encoded data removed]"
          },
          "metadata": {
            "needs_background": "light"
          }
        }
      ]
    },
    {
      "cell_type": "markdown",
      "source": [
        "# Section 4: Conditional Statements and loops"
      ],
      "metadata": {
        "id": "DSC8jbPQpz18"
      }
    },
    {
      "cell_type": "markdown",
      "source": [
        "$\\color{blue}{\\text{4.1: Conditionals}}$\n",
        "\n",
        "1. if\n",
        "2. if else\n",
        "3. if elif else\n",
        "4. nested if"
      ],
      "metadata": {
        "id": "yxHlhOM4fpAx"
      }
    },
    {
      "cell_type": "code",
      "source": [
        "# if statements\n",
        "a = 7\n",
        "b = 13\n",
        "if a>b:\n",
        "  print('a is greater')"
      ],
      "metadata": {
        "id": "HiyzJZH7qBMO"
      },
      "execution_count": 51,
      "outputs": []
    },
    {
      "cell_type": "code",
      "source": [
        "#if else statements\n",
        "a = 7\n",
        "b = 13\n",
        "if a>b:\n",
        "  print('a is greater then b')\n",
        "else:\n",
        "  print('b is greter than a')"
      ],
      "metadata": {
        "id": "KYVB1mHogKyg",
        "colab": {
          "base_uri": "https://localhost:8080/"
        },
        "outputId": "0576e03b-3cda-4e9d-c88e-2fc20d92526d"
      },
      "execution_count": 52,
      "outputs": [
        {
          "output_type": "stream",
          "name": "stdout",
          "text": [
            "b is greter than a\n"
          ]
        }
      ]
    },
    {
      "cell_type": "code",
      "source": [
        "#if elif else statements\n",
        "a = 7\n",
        "b = 7\n",
        "if a>b:\n",
        "  print('a is greater than b')\n",
        "elif a<b:\n",
        "  print('b is greter than a')\n",
        "else:\n",
        "  print('a and b are equal')"
      ],
      "metadata": {
        "id": "nb9Rn12CgyvG",
        "colab": {
          "base_uri": "https://localhost:8080/"
        },
        "outputId": "48775adf-0355-4479-d202-12a587b38f0b"
      },
      "execution_count": 53,
      "outputs": [
        {
          "output_type": "stream",
          "name": "stdout",
          "text": [
            "a and b are equal\n"
          ]
        }
      ]
    },
    {
      "cell_type": "code",
      "source": [
        "#nested if statements\n",
        "a = 50\n",
        "b = 25\n",
        "if a>b:\n",
        "  print('a is greater than b')\n",
        "  if a>0:\n",
        "    print('also a is greter than 50')\n",
        "    if a>75: \n",
        "       print('and a is greter than 75')\n",
        "\n",
        "if a<b:\n",
        "  print('b is greater than a')"
      ],
      "metadata": {
        "id": "CMPE3UU3iWOj",
        "colab": {
          "base_uri": "https://localhost:8080/"
        },
        "outputId": "86692ec4-556a-4ba3-a6d4-f5d370f2eda6"
      },
      "execution_count": 54,
      "outputs": [
        {
          "output_type": "stream",
          "name": "stdout",
          "text": [
            "a is greater than b\n",
            "also a is greter than 50\n"
          ]
        }
      ]
    },
    {
      "cell_type": "markdown",
      "source": [
        "$\\color{blue}{\\text{4.2: Loops}}$\n",
        "\n",
        "1. for loop\n",
        "2. while loop"
      ],
      "metadata": {
        "id": "b_9gIDVAhgj5"
      }
    },
    {
      "cell_type": "code",
      "source": [
        "# for loop\n",
        "a =[22,33,44,55]\n",
        "for i in a:\n",
        "  print(i)"
      ],
      "metadata": {
        "id": "PtsqT8jxpIfN",
        "colab": {
          "base_uri": "https://localhost:8080/"
        },
        "outputId": "c80593d8-ff54-40ec-919d-a5a5ebceefec"
      },
      "execution_count": 55,
      "outputs": [
        {
          "output_type": "stream",
          "name": "stdout",
          "text": [
            "22\n",
            "33\n",
            "44\n",
            "55\n"
          ]
        }
      ]
    },
    {
      "cell_type": "code",
      "source": [
        "# for loop\n",
        "a =[22,33,44,55]\n",
        "for i in a:\n",
        "  if i>30:\n",
        "    print('a is greater than 30')\n",
        "  else:\n",
        "    print('a is less than 30')"
      ],
      "metadata": {
        "id": "x0EONByaoCmy",
        "colab": {
          "base_uri": "https://localhost:8080/"
        },
        "outputId": "ad2ccc9c-425e-411a-851f-a37ff70a5346"
      },
      "execution_count": 56,
      "outputs": [
        {
          "output_type": "stream",
          "name": "stdout",
          "text": [
            "a is less than 30\n",
            "a is greater than 30\n",
            "a is greater than 30\n",
            "a is greater than 30\n"
          ]
        }
      ]
    },
    {
      "cell_type": "code",
      "source": [
        "for i in range(1,6):\n",
        "  print(i)"
      ],
      "metadata": {
        "id": "Qf2Xfem7pZOv",
        "colab": {
          "base_uri": "https://localhost:8080/"
        },
        "outputId": "4518bdfb-4dad-4b88-9f99-19043d79cb19"
      },
      "execution_count": 57,
      "outputs": [
        {
          "output_type": "stream",
          "name": "stdout",
          "text": [
            "1\n",
            "2\n",
            "3\n",
            "4\n",
            "5\n"
          ]
        }
      ]
    },
    {
      "cell_type": "code",
      "source": [
        "#while loop\n",
        "a = True\n",
        "i = 0\n",
        "while a:\n",
        "  i=i+1\n",
        "  print(i)\n",
        "  if i==5:\n",
        "    a = False\n"
      ],
      "metadata": {
        "id": "i6zdKhJYqR4t",
        "colab": {
          "base_uri": "https://localhost:8080/"
        },
        "outputId": "11381ebf-e977-473b-ae2f-b95ba804f8d3"
      },
      "execution_count": 58,
      "outputs": [
        {
          "output_type": "stream",
          "name": "stdout",
          "text": [
            "1\n",
            "2\n",
            "3\n",
            "4\n",
            "5\n"
          ]
        }
      ]
    },
    {
      "cell_type": "code",
      "source": [
        "a = [22,33,44,55,66]\n",
        "i = 0\n",
        "while i<len(a):\n",
        "  print(a[i])\n",
        "  i=i+1"
      ],
      "metadata": {
        "id": "dI5t4T67q5yU",
        "colab": {
          "base_uri": "https://localhost:8080/"
        },
        "outputId": "2cbd15c7-3fc1-4aed-851a-1a3f8124fc41"
      },
      "execution_count": 59,
      "outputs": [
        {
          "output_type": "stream",
          "name": "stdout",
          "text": [
            "22\n",
            "33\n",
            "44\n",
            "55\n",
            "66\n"
          ]
        }
      ]
    }
  ]
}
