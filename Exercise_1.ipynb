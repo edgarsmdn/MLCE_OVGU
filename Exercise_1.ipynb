{
  "nbformat": 4,
  "nbformat_minor": 0,
  "metadata": {
    "colab": {
      "name": "Exercise_1.ipynb",
      "provenance": [],
      "collapsed_sections": [
        "kw-r0zgwZMZp",
        "GbZf7UnIZNop",
        "DSC8jbPQpz18"
      ]
    },
    "kernelspec": {
      "name": "python3",
      "display_name": "Python 3"
    },
    "language_info": {
      "name": "python"
    },
    "accelerator": "GPU"
  },
  "cells": [
    {
      "cell_type": "markdown",
      "source": [
        "# Section 1: Mathematical Operations\n",
        "\n",
        "Mathematical operations are the key to design any chemical engineering process. In this Section, we will learn how to implement basic mathematical operations using python. In this complete course, we will be dealing with these matheamtical operations, so it is very important to understand how to implement these operations."
      ],
      "metadata": {
        "id": "kw-r0zgwZMZp"
      }
    },
    {
      "cell_type": "markdown",
      "source": [
        "$\\color{blue}{\\text{1.1: Basic Operations}}$"
      ],
      "metadata": {
        "id": "BamkGQh8xvek"
      }
    },
    {
      "cell_type": "code",
      "source": [
        "#Assign values to variables with = operator\n",
        "#Variable name can only contain numbers, letters and underscore and can not start with number\n",
        "a = -4\n",
        "b = 6\n",
        "a = 3       #variable 'a' is defined two times but by default in python variable stores only the latest defined value\n",
        "print(a)    #print statements are used to show the values stored inside the variable"
      ],
      "metadata": {
        "id": "HDeDr_ZMa4hO",
        "cellView": "code"
      },
      "execution_count": null,
      "outputs": []
    },
    {
      "cell_type": "code",
      "source": [
        "a + b       #it performs the operation \"addition\" but doesnot store the output"
      ],
      "metadata": {
        "id": "Mh-WdY0Wu05r"
      },
      "execution_count": null,
      "outputs": []
    },
    {
      "cell_type": "code",
      "source": [
        "c = a + b   #it performs the operation \"addition\" and then also stores the output in variable named 'c' \n",
        "            #Note: when you run the code output window shows nothing, why?????"
      ],
      "metadata": {
        "id": "Ff77SppoAxb7"
      },
      "execution_count": null,
      "outputs": []
    },
    {
      "cell_type": "code",
      "source": [
        "a - b    #subtraction\n",
        "a * b    #multiplication\n",
        "a / b    #division\n",
        "a**b     #exponent\n",
        "a//b     #floor division"
      ],
      "metadata": {
        "id": "WPfWORMJBkhw"
      },
      "execution_count": null,
      "outputs": []
    },
    {
      "cell_type": "code",
      "source": [
        "#Imaginary numbers\n",
        "i = (-1)**0.5\n",
        "print(i)    #output is not exactly iota (imaginary number), why ??????\n",
        "print(i**2) #output will not be exactly -1, why ???????'"
      ],
      "metadata": {
        "id": "LWahJ5ScZC38"
      },
      "execution_count": null,
      "outputs": []
    },
    {
      "cell_type": "code",
      "source": [
        "a = complex(2,2)\n",
        "b = pow(a,2)\n",
        "c = abs(a)  \n",
        "#Note: Algebra (Basic Opwerations) of complex numbers can be written similarly as of real numbers as explained above."
      ],
      "metadata": {
        "id": "VB-4ubwRH50V"
      },
      "execution_count": null,
      "outputs": []
    },
    {
      "cell_type": "code",
      "source": [
        "import cmath\n",
        "cmath.sin(2 +3j)"
      ],
      "metadata": {
        "id": "0nqBxh3ZIpbj"
      },
      "execution_count": null,
      "outputs": []
    },
    {
      "cell_type": "markdown",
      "source": [
        "$\\color{blue}{\\text{1.2: Operator Preferences}}$"
      ],
      "metadata": {
        "id": "JqTciWfex8wm"
      }
    },
    {
      "cell_type": "code",
      "source": [
        "''' \n",
        "1. Paranthesis\n",
        "2. Exponent\n",
        "3. Negation\n",
        "4. Multiplication, Floor division and Division (Same preference, whichever written first from the left)\n",
        "6. Addition and Subtraction (Same preference)'''\n",
        "\n",
        "#Example set  \n",
        "a1 = -1**2\n",
        "a2 = (-1)**2\n",
        "\n",
        "a3 = -2*3//4\n",
        "a4 = -2*(3//4)\n",
        "\n",
        "#Note: you can practice writting random combination of any numbers and operations here and calculate it manually to cross check\n"
      ],
      "metadata": {
        "id": "PYJnydOIHdc3"
      },
      "execution_count": null,
      "outputs": []
    },
    {
      "cell_type": "markdown",
      "source": [
        "$\\color{blue}{\\text{1.3: Libraries for Mathematical Operations}}$"
      ],
      "metadata": {
        "id": "8nJdLDoqzIIL"
      }
    },
    {
      "cell_type": "code",
      "source": [
        "import numpy as np       #in general practice all the libraries should be collected at the very start of project code\n",
        "import math\n",
        "print(np.log(2))\n",
        "print(math.log(2))\n",
        "print(np.log10(2))\n",
        "print(math.log10(2))\n",
        "print(np.sqrt(2))\n",
        "print(np.pi)\n",
        "np.sin(2)  #2 is in radians by default\n",
        "np.cos(2)\n",
        "np.tan(2)"
      ],
      "metadata": {
        "id": "eNDUWx-dajy9"
      },
      "execution_count": null,
      "outputs": []
    },
    {
      "cell_type": "markdown",
      "source": [
        "$\\color{blue}{\\text{1.4: Arrays}}$"
      ],
      "metadata": {
        "id": "WvTamn05zgrw"
      }
    },
    {
      "cell_type": "code",
      "source": [
        "#manually creating array\n",
        "a = np.array([1,2,3,4,5]) #never use only one square bracket while defining any 'Array (matrix or vector)' manually\n",
        "a1 = np.array([[1,2,3,4,5]])\n",
        "print(a.shape)    #a.shape is used to check the shape of array 'a'\n",
        "print(a1.shape)          "
      ],
      "metadata": {
        "id": "t_8cPcB5zooW"
      },
      "execution_count": null,
      "outputs": []
    },
    {
      "cell_type": "code",
      "source": [
        "#Indexing in Python begins with 0 and not with 1, the following print command is going to return 1:\n",
        "a1 = np.array([[1,2,3,4,5]])\n",
        "print(a1[0,0])"
      ],
      "metadata": {
        "id": "NAVgPROtTbzn"
      },
      "execution_count": null,
      "outputs": []
    },
    {
      "cell_type": "code",
      "source": [
        "a = np.array([[1,2,3,4,5],[6,7,8,9,10]])  #a is two dimensional matrix\n",
        "b = a[0:2,1:4] \n",
        "print(b)\n",
        "b[0,1] = 8           # this will change both a and b!\n",
        "print(a)"
      ],
      "metadata": {
        "id": "GycoPyi9WCak"
      },
      "execution_count": null,
      "outputs": []
    },
    {
      "cell_type": "code",
      "source": [
        "# make a copy like this:\n",
        "a = np.array([[1,2,3,4,5],[6,7,8,9,10]])\n",
        "c = np.array(a[0:2,1:4], copy=True) # copy=True can be omitted\n",
        "c[0,1] = np.random.rand() # changes only c\n",
        "print(a)"
      ],
      "metadata": {
        "id": "tBJq9AvVYliC"
      },
      "execution_count": null,
      "outputs": []
    },
    {
      "cell_type": "code",
      "source": [
        "b = np.array([[1,2,3,4,5],[6,7,8,9,10]])   \n",
        "c = np.array([[1,2,1,2,4],[3,2,6,1,3]]) \n",
        "d8 = np.dot(b,c)   #error why??????\n",
        "print(d8)"
      ],
      "metadata": {
        "id": "riMqi5334oDJ"
      },
      "execution_count": null,
      "outputs": []
    },
    {
      "cell_type": "code",
      "source": [
        "c = c.reshape(5,2)     #how this is reshaped????\n",
        "d8 = np.dot(b,c)       \n",
        "print(d8)\n"
      ],
      "metadata": {
        "id": "iDOn_iAA5cbc"
      },
      "execution_count": null,
      "outputs": []
    },
    {
      "cell_type": "code",
      "source": [
        "#equally spaced value array\n",
        "a1 = np.linspace(start=0, stop=2, num=11)\n",
        "print(a1)\n",
        "print(a1.shape)    #by default it creates (11,) shape which needs to be reshaped using a1.reshape(11,1) or a1.reshape(1,11) as or if required\n"
      ],
      "metadata": {
        "id": "FKptuQuQA1I7"
      },
      "execution_count": null,
      "outputs": []
    },
    {
      "cell_type": "code",
      "source": [
        "#Example\n",
        "T = np.linspace(300, 700, 3)  #T is temperature\n",
        "n = 2\n",
        "R = 8.314\n",
        "V = 10\n",
        "P = n*R*T/V             #Ideal gas law\n",
        "P"
      ],
      "metadata": {
        "id": "RsAoyvVzcel7"
      },
      "execution_count": null,
      "outputs": []
    },
    {
      "cell_type": "code",
      "source": [
        "#randomly creating arrays of any size\n",
        "a1 = np.random.rand(2,4)"
      ],
      "metadata": {
        "id": "f8OuQbK0NnkQ"
      },
      "execution_count": null,
      "outputs": []
    },
    {
      "cell_type": "code",
      "source": [
        "a =np.random.rand(4,2,3)  # Arrays (Matrices) with more than 2 dimensions has last dimesnion written at the start\n",
        "b = a.reshape(6,4,1)      # how it is reshaped??????\n",
        "print(a)\n",
        "print(b)"
      ],
      "metadata": {
        "id": "Ky4WzK1yZT_R"
      },
      "execution_count": null,
      "outputs": []
    },
    {
      "cell_type": "code",
      "source": [
        "# Different operations on numpy Arrays\n",
        "a = np.random.rand(2,4)\n",
        "b = np.random.rand(4,3)\n",
        "c = np.random.rand(2,4)\n",
        "\n",
        "sum = a + c\n",
        "subtract = a - c\n",
        "multiply = a * c\n",
        "divide = a / c\n",
        "power = a**c\n",
        "floor = a//c\n",
        "dot_product = np.dot(a,b)\n",
        "transpose = np.transpose(a)\n",
        "constant_addition = a + 2\n",
        "concatenate = np.concatenate((a,c), axis=1)     # sticks multiple arrays along one of the existing axis, by default axis = 0\n",
        "stack = np.stack((a,c))                 #sticks multiple arryas along the new axis\n",
        "a, c, concatenate, stack\n"
      ],
      "metadata": {
        "id": "BD7ztFMWFATt"
      },
      "execution_count": null,
      "outputs": []
    },
    {
      "cell_type": "markdown",
      "source": [
        "# Section 2: Data Types in Python\n",
        "When we work with any project it is very important to understand what type of  Data we are working with so that we can process the data in that format otherwise we might face errors and bugs in the code. Major data types are as follows: \n",
        "1.   None     \n",
        "2.   Numeric  \n",
        "3.   List\n",
        "4.   Tuple\n",
        "5.   Set\n",
        "6.   String\n",
        "7.   Range\n",
        "8.   Map / Dictionary\n",
        "\n"
      ],
      "metadata": {
        "id": "GbZf7UnIZNop"
      }
    },
    {
      "cell_type": "markdown",
      "source": [
        "$\\color{blue}{\\text{2.1: None}}$"
      ],
      "metadata": {
        "id": "092ODCJ9j2z3"
      }
    },
    {
      "cell_type": "code",
      "source": [
        "a = None      #we never use this\n",
        "print(type(a))"
      ],
      "metadata": {
        "id": "jwQeBE6mj0r-"
      },
      "execution_count": null,
      "outputs": []
    },
    {
      "cell_type": "markdown",
      "source": [
        "$\\color{blue}{\\text{2.2: Numeric}}$\n",
        "\n",
        "In python numeric data type represents the data which has numeric value. Based on type of numeric values Numeric data type is of four types:\n",
        "\n",
        "$\\color{black}{\\text{2.2.1: int}}$\n",
        "\n",
        "$\\color{black}{\\text{2.2.2: float}}$\n",
        "\n",
        "$\\color{black}{\\text{2.2.3: complex}}$\n",
        "\n",
        "$\\color{black}{\\text{2.2.4: bool}}$\n",
        "\n",
        "\n"
      ],
      "metadata": {
        "id": "zZZCp58TlH8j"
      }
    },
    {
      "cell_type": "code",
      "source": [
        "a = 2\n",
        "print(type(a))\n",
        "\n",
        "b = 3.5\n",
        "print(type(b))\n",
        "\n",
        "c = 6 + 7j\n",
        "print(type(c))"
      ],
      "metadata": {
        "id": "nSUa6d5JlFvw"
      },
      "execution_count": null,
      "outputs": []
    },
    {
      "cell_type": "code",
      "source": [
        "a = 3.9\n",
        "b = int(a)   #converting float into int\n",
        "\n",
        "c = 2\n",
        "d = float(c)   #converting int into float\n",
        "\n",
        "k = 7\n",
        "m = complex(k)\n",
        "\n",
        "#Note: converting complex to float or complex to int (no sense)"
      ],
      "metadata": {
        "id": "E60y4dmgnXiI"
      },
      "execution_count": null,
      "outputs": []
    },
    {
      "cell_type": "code",
      "source": [
        "a = 3\n",
        "b = 4\n",
        "c = a < b\n",
        "d = int(c)\n",
        "print(c)    # output is either True or False\n",
        "print(d)       # int(bool) outputs '1' for True and '0' for False"
      ],
      "metadata": {
        "id": "wpCxmZ7tpuRY"
      },
      "execution_count": null,
      "outputs": []
    },
    {
      "cell_type": "markdown",
      "source": [
        "$\\color{blue}{\\text{2.3: String}}$\n",
        "\n",
        "The string is a sequence of unicode characters and is defined as collection of 1 or more characters inside a quotation mark, double-quote or triple-quote."
      ],
      "metadata": {
        "id": "E7ofTUrdXNpW"
      }
    },
    {
      "cell_type": "code",
      "source": [
        "a = 'Hello World'         # collection of unicode characters defined inside quotation mark\n",
        "b = \"1\"                   # collection of unicode characters defined inside double-quote mark\n",
        "c = '''2'''               # collection of unicode characters defined inside triple-quote mark\n",
        "print(type(a))\n",
        "print(type(b))\n",
        "print(type(c))\n",
        "a[6],a[-1]                 # way to access the elements of string"
      ],
      "metadata": {
        "id": "SXAGW-dIXRPX"
      },
      "execution_count": null,
      "outputs": []
    },
    {
      "cell_type": "code",
      "source": [
        "#concatenation of strings\n",
        "string1 = \"Hello\"\n",
        "string2 = \" World\"\n",
        "string = string1 + string2\n",
        "new_string = string1[0:2] + string2[-1]\n",
        "string, new_string"
      ],
      "metadata": {
        "id": "8ru31XGzXUH_"
      },
      "execution_count": null,
      "outputs": []
    },
    {
      "cell_type": "code",
      "source": [
        "#slicing of strings\n",
        "string1 = \"Hello\"\n",
        "a = string1[0]\n",
        "b = string1[2:4]\n",
        "c = string1[2:]\n",
        "a, b, c\n"
      ],
      "metadata": {
        "id": "gKb9es96XXt-"
      },
      "execution_count": null,
      "outputs": []
    },
    {
      "cell_type": "markdown",
      "source": [
        "$\\color{blue}{\\text{2.4: List}}$\n",
        "\n",
        "List is a collection of elements and each element can have any data type. "
      ],
      "metadata": {
        "id": "zrfPTvoYqrtn"
      }
    },
    {
      "cell_type": "code",
      "source": [
        "a = [1,2,3,4]               #list is defined inside square brackets\n",
        "type(a), len(a), a[0], a[-1]\n",
        "\n",
        "#operations on numbered lists\n",
        "min(a)\n",
        "max(a)\n",
        "sum(a)"
      ],
      "metadata": {
        "id": "P68zpNIFqrCW"
      },
      "execution_count": null,
      "outputs": []
    },
    {
      "cell_type": "code",
      "source": [
        "courses = ['History', 'Math', 'Physics', 'Chemistry']\n",
        "courses.append('Arts')      #.append takes only one argument of what we want to add and adds it at the last of the list"
      ],
      "metadata": {
        "id": "jFHOwohTVkCp"
      },
      "execution_count": null,
      "outputs": []
    },
    {
      "cell_type": "code",
      "source": [
        "courses = ['History', 'Math', 'Physics', 'Chemistry']\n",
        "courses.insert(1, 'Arts')      #.insert takes 2 arguments namely  'at which position'  in the list we want to add and 'what' we want to add"
      ],
      "metadata": {
        "id": "EISeVTGGZa6M"
      },
      "execution_count": null,
      "outputs": []
    },
    {
      "cell_type": "code",
      "source": [
        "courses = ['History', 'Math', 'Physics', 'Chemistry']\n",
        "courses_2 = ['Arts', 'Commerce']\n",
        "courses.extend(courses_2)   #.extend simply adds all the elements of one list to another list at the last\n",
        "courses\n",
        "\n",
        "#other operations on list (Try yourself)  \n",
        "courses.pop()\n",
        "courses.reverse()\n",
        "b = courses.sort()               #sort the list in alphabetical order or ascending numeric order\n",
        "courses.sort(reverse=True)\n",
        "len(courses)     #returns the total number of elements in the list\n",
        "courses.index('Math',0,2)   #searches the index of 'Math' in course (list) from position 0 to position 2 (if specified)"
      ],
      "metadata": {
        "id": "ewgxxHw0ZdLr"
      },
      "execution_count": null,
      "outputs": []
    },
    {
      "cell_type": "code",
      "source": [
        "#slicing of list is used to extract part of the list\n",
        "courses = ['History', 'Math', 'Physics', 'Chemistry']\n",
        "courses[:3], courses[2:], courses[2:4], courses[:]"
      ],
      "metadata": {
        "id": "HAR9Rc4L90eC"
      },
      "execution_count": null,
      "outputs": []
    },
    {
      "cell_type": "code",
      "source": [
        "a = [\"One\", 2 , \"3\", [4, \"5\"],]\n",
        "type(a), type(a[0]), type(a[1]), type(a[2]), type(a[3]), type(a[3][0]), type(a[3][1])"
      ],
      "metadata": {
        "id": "YS5Ucq_LXgI5"
      },
      "execution_count": null,
      "outputs": []
    },
    {
      "cell_type": "markdown",
      "source": [
        "$\\color{blue}{\\text{2.5: Set}}$"
      ],
      "metadata": {
        "id": "xZJeeAXFrPmS"
      }
    },
    {
      "cell_type": "code",
      "source": [
        "a = {1,2,3,4}                #set is defined inside curly brackets\n",
        "type(a)"
      ],
      "metadata": {
        "id": "Fqn9jNf_rR1h"
      },
      "execution_count": null,
      "outputs": []
    },
    {
      "cell_type": "markdown",
      "source": [
        "$\\color{blue}{\\text{2.6: Tuple}}$\n",
        "\n",
        "They work same as lists but list are mutable where as tuples are immutable. We cannot use operations like .append, .insert, .extend etc. to modify tuple.\n",
        "\n",
        "**Tip:**\n",
        "\n",
        "*   If you need something that you can modify, use lists.\n",
        "*   If you just want something which you want to loop through or just access, use tuple.\n",
        "\n",
        "\n"
      ],
      "metadata": {
        "id": "PoV058u2rfO8"
      }
    },
    {
      "cell_type": "code",
      "source": [
        "a = (1,2,3,4)     #tuple is defined inside open brackets\n",
        "type(a), a[0], a[-2]"
      ],
      "metadata": {
        "id": "neQdzcNtrhaJ"
      },
      "execution_count": null,
      "outputs": []
    },
    {
      "cell_type": "markdown",
      "source": [
        "$\\color{blue}{\\text{2.7: Map/Dictionary}}$"
      ],
      "metadata": {
        "id": "IEnUYftO4ozg"
      }
    },
    {
      "cell_type": "code",
      "source": [
        "data = {1:'Maths', 2:'Chemistry', 4: 'Physics'}         #Each element of dictionary has a key and a value\n",
        "data[1], data.get(3), data.get(3, 'Not Found'), "
      ],
      "metadata": {
        "id": "_ccTvgu84p4a"
      },
      "execution_count": null,
      "outputs": []
    },
    {
      "cell_type": "code",
      "source": [
        "keys = ['Maths','Chemistry','Physics']      \n",
        "values = ['Python','Java','C++']\n",
        "data = dict(zip(keys,values))\n",
        "data\n",
        "#we can combine two lists to make a dictionary\n",
        "#we can pass specific key to dictionary and it will retuen its value but vice versa is not"
      ],
      "metadata": {
        "id": "p8AW4TzxOF2w"
      },
      "execution_count": null,
      "outputs": []
    },
    {
      "cell_type": "markdown",
      "source": [
        "# Section 3: Plotting and Visualization\n",
        "\n",
        "Data visualization is an important skill to possess for anyone trying to extract and communicate insights from data. In the field of machine learning, visualization plays a key role throughout the entire process of analysis. "
      ],
      "metadata": {
        "id": "SxD9oNB3YInf"
      }
    },
    {
      "cell_type": "markdown",
      "source": [
        "$\\color{blue}{\\text{3.1: Library for plots}}$"
      ],
      "metadata": {
        "id": "IHLoluSQZLyS"
      }
    },
    {
      "cell_type": "code",
      "source": [
        "import numpy as np\n",
        "import matplotlib.pyplot as plt           #Library for plots\n",
        "import pandas as pd                       #Library for Data importing and handling\n",
        "                                          # Note: Always collect all libraries at the very beginning of the complete code"
      ],
      "metadata": {
        "id": "BGOJmX8TZKzm"
      },
      "execution_count": 1,
      "outputs": []
    },
    {
      "cell_type": "markdown",
      "source": [
        "$\\color{blue}{\\text{3.2: Functional Plot}}$"
      ],
      "metadata": {
        "id": "Wp9Q73iFRKMD"
      }
    },
    {
      "cell_type": "code",
      "source": [
        "x = np.linspace(0,10,11)\n",
        "y = x**2\n",
        "plt.plot(x,y)\n",
        "plt.title('x vs y')\n",
        "plt.xlabel('x')\n",
        "plt.ylabel('y')\n",
        "plt.show()            #need to use this statement to show the plot in output window if you are not using google colab or jupyter"
      ],
      "metadata": {
        "id": "zl62BbweRUwS"
      },
      "execution_count": null,
      "outputs": []
    },
    {
      "cell_type": "markdown",
      "source": [
        "$\\color{blue}{\\text{3.3: Multiple Plots}}$"
      ],
      "metadata": {
        "id": "tfLMJYg3VV2p"
      }
    },
    {
      "cell_type": "code",
      "source": [
        "plt.subplot(2,2,1)    \n",
        "plt.plot(x,y,'r')\n",
        "plt.subplot(2,2,2)\n",
        "plt.plot(x,y,'b')\n",
        "plt.subplot(2,2,3)\n",
        "plt.plot(y,x,color ='orange')\n",
        "plt.subplot(2,2,4)\n",
        "plt.plot(y,x**2,'y')\n"
      ],
      "metadata": {
        "id": "HamnY4kCVaIz"
      },
      "execution_count": null,
      "outputs": []
    },
    {
      "cell_type": "markdown",
      "source": [
        "$\\color{blue}{\\text{3.4: Figure Object}}$\n",
        "\n",
        "Figure is an object that contains all plots elements and can contain many axes inside one figure"
      ],
      "metadata": {
        "id": "bVdaiPHExvFU"
      }
    },
    {
      "cell_type": "code",
      "source": [
        "plot_1 = plt.figure(figsize=(5,4), dpi=100)\n",
        "axes_1 = plot_1.add_axes([0,0,1,1])\n",
        "axes_1.set_xlabel('X')\n",
        "axes_1.set_ylabel('Y')\n",
        "axes_1.set_title('X vs Y')\n",
        "axes_1.plot(x, y, label='x/x^2', color='navy', alpha=.75, lw=2, ls='-.', marker='o', markersize=7, markeredgecolor='y', markeredgewidth=4)\n",
        "axes_1.plot(y,x,label = 'x^2/x')\n",
        "axes_1.legend(loc=0)\n",
        "\n",
        "axes_2 = plot_1.add_axes([0.4,0.5,0.4,0.3])\n",
        "axes_2.plot(x,y,'r')\n",
        "#you can also zoom in part of the figure by setting xlimit and ylimit using axes_2.setxlimit and axes_2.setylimit\n",
        "#you can change the background using axes_2.grid(), take help from google to see the arguments to be passed\n"
      ],
      "metadata": {
        "id": "B2FnJgOLwjDD"
      },
      "execution_count": null,
      "outputs": []
    },
    {
      "cell_type": "markdown",
      "source": [
        "$\\color{blue}{\\text{3.5: Subplots}}$"
      ],
      "metadata": {
        "id": "-7ao45Yv7RKP"
      }
    },
    {
      "cell_type": "code",
      "source": [
        "plot_3, axes_3 = plt.subplots(figsize = (8,4),nrows=2,ncols=3)\n",
        "plt.tight_layout\n",
        "axes_3[0,0].set_title('fig 1')\n",
        "axes_3[0,0].set_xlabel('X')\n",
        "axes_3[0,0].set_ylabel('Y')\n",
        "axes_3[0,0].plot(x,y,'r')\n",
        "\n",
        "axes_3[1,0].set_title('fig 2')\n",
        "axes_3[1,0].set_xlabel('X')\n",
        "axes_3[1,0].set_ylabel('Y')\n",
        "axes_3[1,0].plot(x,y,'b')"
      ],
      "metadata": {
        "id": "Wdcg8FmqBVS2"
      },
      "execution_count": null,
      "outputs": []
    },
    {
      "cell_type": "markdown",
      "source": [
        "$\\color{blue}{\\text{3.6: Save Visualization to a File}}$"
      ],
      "metadata": {
        "id": "PI3EULCaEy-y"
      }
    },
    {
      "cell_type": "code",
      "source": [
        "plot_3.savefig('1st plot.pdf')"
      ],
      "metadata": {
        "id": "tpMCmyjoE_60"
      },
      "execution_count": 14,
      "outputs": []
    },
    {
      "cell_type": "markdown",
      "source": [
        "$\\color{blue}{\\text{3.7: Pandas DataFrame}}$"
      ],
      "metadata": {
        "id": "euomaQCXA0mI"
      }
    },
    {
      "cell_type": "code",
      "source": [
        "import numpy as np\n",
        "import matplotlib.pyplot as plt           #Library for plots\n",
        "import pandas as pd   \n",
        "data = pd.read_excel('/content/raw_data.xlsx')        #Note: download this data file from elearning\n",
        "data.sort_values(by = 'materials')            #very useful to readjust the data in desired format\n",
        "print(data.head())\n",
        "data_array = np.array(data)\n"
      ],
      "metadata": {
        "id": "UqRY0d4tA7Q6"
      },
      "execution_count": null,
      "outputs": []
    },
    {
      "cell_type": "markdown",
      "source": [
        "$\\color{blue}{\\text{3.8: Scattered Plots}}$"
      ],
      "metadata": {
        "id": "Mth-8ZC2nDZK"
      }
    },
    {
      "cell_type": "code",
      "source": [
        "x = data_array[:,1]\n",
        "y = data_array[:,4]\n",
        "plt.scatter(x,y)\n",
        "plt.title('Material_Index vs Adsorbate_Index')\n",
        "plt.xlabel('Material_Index')\n",
        "plt.ylabel('Adsorbate_iNDEX')\n",
        "plt.show()   \n"
      ],
      "metadata": {
        "id": "KCAVaka_nKE6"
      },
      "execution_count": null,
      "outputs": []
    },
    {
      "cell_type": "code",
      "source": [
        "x = np.linspace(0,10)\n",
        "y = x\n",
        "original = np.array([[1.2,2.3,4.5,6.7,7.9]])\n",
        "predicted = np.array([[1.1,2.29,4.1,6.2,8.9]])\n",
        "plt.plot(x,y,'r')\n",
        "plt.scatter(original,predicted)\n",
        "plt.title('original vs predicted')\n",
        "plt.xlabel('original')\n",
        "plt.ylabel('predeicted')\n",
        "plt.show() "
      ],
      "metadata": {
        "id": "kW_lyMs-nN2l"
      },
      "execution_count": null,
      "outputs": []
    },
    {
      "cell_type": "markdown",
      "source": [
        "$\\color{blue}{\\text{3.9: Histogram}}$\n",
        "\n",
        "\n",
        "*   Histograms are very oftenly used in Machine learning projects to visualise different type of data.\n",
        "*   Histogram needs one dimensional data as an input and it groups that data in bins (we choose bin size based on our requirements)  and visualize the frequency of each group.\n",
        "\n"
      ],
      "metadata": {
        "id": "2vVd-hcCo7oX"
      }
    },
    {
      "cell_type": "code",
      "source": [
        "#example 1: sugar level of different number of people\n",
        "sugar_level = [113,85,90,150,147,81,95,113,132,87,72,80,129]\n",
        "a = min(sugar_level)\n",
        "print(a)\n",
        "b = max(sugar_level)\n",
        "print(b)\n",
        "N = 5   #length of each bin\n",
        "number_of_bins = int((b - a)/N)\n",
        "print(number_of_bins)\n",
        "plt.hist(sugar_level, bins=number_of_bins)"
      ],
      "metadata": {
        "id": "iZIuaMSPpDQv"
      },
      "execution_count": null,
      "outputs": []
    },
    {
      "cell_type": "code",
      "source": [
        "#example 2: error data\n",
        "a = np.array([1.2,2.4,3.6,4.8,6,7.2,3.4,2.323,3.77])    #original values\n",
        "b = np.array([1.1,2.39,3.57,4.67,6.2,7.23,3.41,2.32,3.768])     #predicted values\n",
        "c = a-b\n",
        "N = 0.01\n",
        "number_of_bins = int((max(c) - min(c))/N)\n",
        "c\n",
        "plt.hist(c, bins=number_of_bins)    #you can learn how to add more details by yourself by passing more arguments"
      ],
      "metadata": {
        "id": "nwk_qa5q2qfZ"
      },
      "execution_count": null,
      "outputs": []
    },
    {
      "cell_type": "markdown",
      "source": [
        "$\\color{blue}{\\text{3.10: 3d Plots}}$"
      ],
      "metadata": {
        "id": "4sZ84YGZFLDi"
      }
    },
    {
      "cell_type": "code",
      "source": [
        "%matplotlib inline\n",
        "import numpy as np\n",
        "import matplotlib.pyplot as plt\n",
        "from mpl_toolkits import mplot3d\n",
        "from matplotlib import cm"
      ],
      "metadata": {
        "id": "RFgaqivqFctI"
      },
      "execution_count": 8,
      "outputs": []
    },
    {
      "cell_type": "code",
      "source": [
        "fig = plt.figure(figsize=[12,8])\n",
        "ax = fig.gca(projection='3d')\n",
        "plt.show()"
      ],
      "metadata": {
        "id": "5gZSPMG_HB4z"
      },
      "execution_count": null,
      "outputs": []
    },
    {
      "cell_type": "code",
      "source": [
        "# Data for a three-dimensional line\n",
        "fig = plt.figure(figsize=[12,8])\n",
        "ax = fig.gca(projection='3d')\n",
        "z = np.linspace(0, 15, 1000)\n",
        "x = np.sin(z)\n",
        "y = np.cos(z)\n",
        "ax.plot3D(x, y, z, 'gray')\n",
        "\n",
        "# Data for three-dimensional scattered points\n",
        "z1 = 15 * np.random.random(100)\n",
        "x1 = np.sin(z1) + 0.1 * np.random.randn(100)\n",
        "y1 = np.cos(z1) + 0.1 * np.random.randn(100)\n",
        "ax.scatter3D(x1, y1, z1, c=z1, cmap='Greens');\n",
        "#ax.view_init(35, 0)      # to adjust the angle of view\n",
        "fig = plt.figure(figsize=[12,8])"
      ],
      "metadata": {
        "id": "PMy5a10UJcAn"
      },
      "execution_count": null,
      "outputs": []
    },
    {
      "cell_type": "code",
      "source": [
        "f = lambda x,y: np.sin(x) * np.cos(y)       #lambda is a small function which can take any number of arguments but can include only one expression\n",
        "x = np.linspace(-2,2,10)\n",
        "y = np.linspace(-2,2,10)\n",
        "X,Y = np.meshgrid(x,y)\n",
        "F = f(X,Y)\n",
        "\n",
        "def plot(L,M):\n",
        "  fig = plt.figure(figsize=[12,8])\n",
        "  ax = fig.gca(projection='3d')\n",
        "  ax.view_init(L,M)\n",
        "  ax.plot_surface(X, Y, F, cmap=cm.coolwarm)\n",
        "plot(0,30)\n",
        "# To learn more about 3d plots follow the link (ctrl + click) https://colab.research.google.com/github/jakevdp/PythonDataScienceHandbook/blob/master/notebooks/04.12-Three-Dimensional-Plotting.ipynb"
      ],
      "metadata": {
        "id": "i7muucxlBehk"
      },
      "execution_count": null,
      "outputs": []
    },
    {
      "cell_type": "markdown",
      "source": [
        "# Section 4: Conditional Statements and loops"
      ],
      "metadata": {
        "id": "DSC8jbPQpz18"
      }
    },
    {
      "cell_type": "markdown",
      "source": [
        "$\\color{blue}{\\text{4.1: Conditionals}}$\n",
        "\n",
        "1. if\n",
        "2. if else\n",
        "3. if elif else\n",
        "4. nested if"
      ],
      "metadata": {
        "id": "yxHlhOM4fpAx"
      }
    },
    {
      "cell_type": "code",
      "source": [
        "# if statements\n",
        "a = 7\n",
        "b = 13\n",
        "if a>b:\n",
        "  print('a is greater')"
      ],
      "metadata": {
        "id": "HiyzJZH7qBMO"
      },
      "execution_count": 11,
      "outputs": []
    },
    {
      "cell_type": "code",
      "source": [
        "#if else statements\n",
        "a = 7\n",
        "b = 13\n",
        "if a>b:\n",
        "  print('a is greater then b')\n",
        "else:\n",
        "  print('b is greter than a')"
      ],
      "metadata": {
        "id": "KYVB1mHogKyg"
      },
      "execution_count": null,
      "outputs": []
    },
    {
      "cell_type": "code",
      "source": [
        "#if elif else statements\n",
        "a = 7\n",
        "b = 7\n",
        "if a>b:\n",
        "  print('a is greater than b')\n",
        "elif a<b:\n",
        "  print('b is greter than a')\n",
        "else:\n",
        "  print('a and b are equal')"
      ],
      "metadata": {
        "id": "nb9Rn12CgyvG"
      },
      "execution_count": null,
      "outputs": []
    },
    {
      "cell_type": "code",
      "source": [
        "#nested if statements\n",
        "a = 50\n",
        "b = 25\n",
        "if a>b:\n",
        "  print('a is greater than b')\n",
        "  if a>0:\n",
        "    print('also a is greter than 50')\n",
        "    if a>75: \n",
        "       print('and a is greter than 75')\n",
        "\n",
        "if a<b:\n",
        "  print('b is greater than a')"
      ],
      "metadata": {
        "id": "CMPE3UU3iWOj"
      },
      "execution_count": null,
      "outputs": []
    },
    {
      "cell_type": "markdown",
      "source": [
        "$\\color{blue}{\\text{4.2: Loops}}$\n",
        "\n",
        "1. for loop\n",
        "2. while loop"
      ],
      "metadata": {
        "id": "b_9gIDVAhgj5"
      }
    },
    {
      "cell_type": "code",
      "source": [
        "# for loop\n",
        "a =[22,33,44,55]\n",
        "for i in a:\n",
        "  print(i)"
      ],
      "metadata": {
        "id": "PtsqT8jxpIfN"
      },
      "execution_count": null,
      "outputs": []
    },
    {
      "cell_type": "code",
      "source": [
        "# for loop\n",
        "a =[22,33,44,55]\n",
        "for i in a:\n",
        "  if i>30:\n",
        "    print('a is greater than 30')\n",
        "  else:\n",
        "    print('a is less than 30')"
      ],
      "metadata": {
        "id": "x0EONByaoCmy"
      },
      "execution_count": null,
      "outputs": []
    },
    {
      "cell_type": "code",
      "source": [
        "for i in range(1,6):\n",
        "  print(i)"
      ],
      "metadata": {
        "id": "Qf2Xfem7pZOv"
      },
      "execution_count": null,
      "outputs": []
    },
    {
      "cell_type": "code",
      "source": [
        "#while loop\n",
        "a = True\n",
        "i = 0\n",
        "while a:\n",
        "  i=i+1\n",
        "  print(i)\n",
        "  if i==5:   #== is used to compare the equality of two objects\n",
        "    a = False\n"
      ],
      "metadata": {
        "id": "i6zdKhJYqR4t"
      },
      "execution_count": null,
      "outputs": []
    },
    {
      "cell_type": "code",
      "source": [
        "a = [22,33,44,55,66]\n",
        "i = 0\n",
        "while i<len(a):\n",
        "  print(a[i])\n",
        "  i=i+1"
      ],
      "metadata": {
        "id": "dI5t4T67q5yU"
      },
      "execution_count": null,
      "outputs": []
    }
  ]
}