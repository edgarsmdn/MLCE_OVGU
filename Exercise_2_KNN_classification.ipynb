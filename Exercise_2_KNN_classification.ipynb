{
  "nbformat": 4,
  "nbformat_minor": 0,
  "metadata": {
    "colab": {
      "name": "Exercise_2_KNN_classification.ipynb",
      "provenance": [],
      "collapsed_sections": []
    },
    "kernelspec": {
      "name": "python3",
      "display_name": "Python 3"
    },
    "language_info": {
      "name": "python"
    }
  },
  "cells": [
    {
      "cell_type": "markdown",
      "source": [
        "$\\color{blue}{\\text{Import Libraries}}$"
      ],
      "metadata": {
        "id": "YMiI5CDX5JZ0"
      }
    },
    {
      "cell_type": "code",
      "execution_count": null,
      "metadata": {
        "id": "bp7jEdcj4flb"
      },
      "outputs": [],
      "source": [
        "# Always write your Name and Matriculation number here before submitting any task on elearning."
      ]
    },
    {
      "cell_type": "code",
      "source": [
        "import pandas as pd\n",
        "import matplotlib.pyplot as plt\n",
        "import seaborn as sn\n",
        "import numpy as np\n",
        "%matplotlib inline"
      ],
      "metadata": {
        "id": "V3C3ZNc8XjsA"
      },
      "execution_count": null,
      "outputs": []
    },
    {
      "cell_type": "markdown",
      "source": [
        "$\\color{blue}{\\text{Get the Data}}$\n",
        "\n",
        "Set index_col=0 to use the first column as the index."
      ],
      "metadata": {
        "id": "oWmicwjH5Ksm"
      }
    },
    {
      "cell_type": "code",
      "source": [
        "df = pd.read_csv(\"/content/MUT_features.csv\",index_col=0)"
      ],
      "metadata": {
        "id": "vn-yAIhU5ILt"
      },
      "execution_count": null,
      "outputs": []
    },
    {
      "cell_type": "code",
      "source": [
        "df.dtypes    #data type object in pandas means either it includes text or mixed numeric and non numeric values"
      ],
      "metadata": {
        "id": "IyH-W0ty8-Oi"
      },
      "execution_count": null,
      "outputs": []
    },
    {
      "cell_type": "code",
      "source": [
        "print(df.head())      #Note: .head() can be used only for dataframes and not for arrays\n",
        "print(type(df))\n",
        "#Note: Each row of Dataset is single datapoint for our model"
      ],
      "metadata": {
        "id": "GBvQkpwi6vCV"
      },
      "execution_count": null,
      "outputs": []
    },
    {
      "cell_type": "code",
      "source": [
        "a = df['Experimental value']        #to access any column of DataFrame\n",
        "b = df[1:2]     # to access any row or multiple rows of DataFrame"
      ],
      "metadata": {
        "id": "4domchYBdi-f"
      },
      "execution_count": null,
      "outputs": []
    },
    {
      "cell_type": "code",
      "source": [
        "print(df[0:2])    #to access multiple rows of DataFrame"
      ],
      "metadata": {
        "id": "CVUj3W8cSKGS"
      },
      "execution_count": null,
      "outputs": []
    },
    {
      "cell_type": "code",
      "source": [
        "a1 = df[df['Experimental value']==1]            #to access all rows having 'Experimental value' equals 1 in MUT_features dataset"
      ],
      "metadata": {
        "id": "p_1NdUU2gVhn"
      },
      "execution_count": null,
      "outputs": []
    },
    {
      "cell_type": "code",
      "source": [
        "a2 = df[df['qed']<0.5]             #to access all rows having 'qed' values less than 0.5 in MUT_features dataset"
      ],
      "metadata": {
        "id": "DwAoulsggXUJ"
      },
      "execution_count": null,
      "outputs": []
    },
    {
      "cell_type": "code",
      "source": [
        "c = df.drop(['Id','CAS','SMILES','Status','Experimental value','Predicted value'],axis=1)\n",
        "print(c)\n",
        "#sometimes we also need to add new column to existing dataframe"
      ],
      "metadata": {
        "id": "mBxOC-irSM5u"
      },
      "execution_count": null,
      "outputs": []
    },
    {
      "cell_type": "markdown",
      "source": [
        "$\\color{blue}{\\text{Standardize the Input Features}}$\n",
        "\n",
        "The prediction performed by KNN is based on the distance measure between the point to be predicted and the set of the k nereast neighbours. This distance is naturally affected by the scale of the input features. Therefore, we need to scale all input features in order to give the same importance to all regardless of their original scale.\n",
        "\n",
        "Here, we will use the method known as standardization.\n",
        "\n",
        "$\\hat{x} = \\frac{x-\\mu_x}{\\sigma_x}$"
      ],
      "metadata": {
        "id": "iTfo1fwH7qMv"
      }
    },
    {
      "cell_type": "code",
      "source": [
        "from sklearn.preprocessing import StandardScaler"
      ],
      "metadata": {
        "id": "KlCTYKzV7Lja"
      },
      "execution_count": null,
      "outputs": []
    },
    {
      "cell_type": "code",
      "source": [
        "scaler = StandardScaler()"
      ],
      "metadata": {
        "id": "JDrRFz3o7ORI"
      },
      "execution_count": null,
      "outputs": []
    },
    {
      "cell_type": "code",
      "source": [
        "scaler.fit(df.drop(['Id','CAS','SMILES','Status','Experimental value','Predicted value'],axis=1))"
      ],
      "metadata": {
        "id": "bM9AXPQJ7h9h",
        "colab": {
          "base_uri": "https://localhost:8080/"
        },
        "outputId": "05e1071f-0fe2-4162-d64e-c71d5d9ca5aa"
      },
      "execution_count": null,
      "outputs": [
        {
          "output_type": "execute_result",
          "data": {
            "text/plain": [
              "StandardScaler()"
            ]
          },
          "metadata": {},
          "execution_count": 17
        }
      ]
    },
    {
      "cell_type": "code",
      "source": [
        "scaled_features = scaler.transform(df.drop(['Id','CAS','SMILES','Status','Experimental value','Predicted value'],axis=1))\n",
        "#Note: Variable 'scaled_features' is by default calculated as array, so we need to convert array in DataFrame"
      ],
      "metadata": {
        "id": "m4TAblST7lIL"
      },
      "execution_count": null,
      "outputs": []
    },
    {
      "cell_type": "code",
      "source": [
        "df_feat = pd.DataFrame(scaled_features,columns=df.columns[6:])"
      ],
      "metadata": {
        "id": "qoB51i4B7nDF"
      },
      "execution_count": null,
      "outputs": []
    },
    {
      "cell_type": "code",
      "source": [
        "df_feat.head()"
      ],
      "metadata": {
        "id": "jzHVZqK97ohD"
      },
      "execution_count": null,
      "outputs": []
    },
    {
      "cell_type": "markdown",
      "source": [
        "$\\color{blue}{\\text{Train Test Split}}$"
      ],
      "metadata": {
        "id": "h2uOyvKYB_QE"
      }
    },
    {
      "cell_type": "code",
      "source": [
        "from sklearn.model_selection import train_test_split"
      ],
      "metadata": {
        "id": "DQR8ATRjCPCq"
      },
      "execution_count": null,
      "outputs": []
    },
    {
      "cell_type": "code",
      "source": [
        "X_train, X_test, y_train, y_test = train_test_split(scaled_features,df['Experimental value'],\n",
        "                                                    test_size=0.2)"
      ],
      "metadata": {
        "id": "I09X-mSqCRtN"
      },
      "execution_count": null,
      "outputs": []
    },
    {
      "cell_type": "code",
      "source": [
        "print(len(X_train))\n",
        "print(len(X_test))"
      ],
      "metadata": {
        "id": "yeIZ2XI5jwoD"
      },
      "execution_count": null,
      "outputs": []
    },
    {
      "cell_type": "markdown",
      "source": [
        "$\\color{blue}{\\text{Using KNN}}$"
      ],
      "metadata": {
        "id": "Ti0h11a7CjPs"
      }
    },
    {
      "cell_type": "code",
      "source": [
        "from sklearn.neighbors import KNeighborsClassifier           # to import regression model replace Classifier by Regressor in this line"
      ],
      "metadata": {
        "id": "fXHhnxgICgJD"
      },
      "execution_count": null,
      "outputs": []
    },
    {
      "cell_type": "code",
      "source": [
        "knn = KNeighborsClassifier(n_neighbors=3)"
      ],
      "metadata": {
        "id": "0C18Ne_tCxdn"
      },
      "execution_count": null,
      "outputs": []
    },
    {
      "cell_type": "code",
      "source": [
        "knn.fit(X_train,y_train)"
      ],
      "metadata": {
        "id": "WYtljFtOCzB7"
      },
      "execution_count": null,
      "outputs": []
    },
    {
      "cell_type": "code",
      "source": [
        "pred = knn.predict(X_test)"
      ],
      "metadata": {
        "id": "8op0R9jbC4R0"
      },
      "execution_count": null,
      "outputs": []
    },
    {
      "cell_type": "markdown",
      "source": [
        "$\\color{blue}{\\text{Predictions and Evaluations}}$\n",
        "\n",
        "Let's evaluate our KNN model!"
      ],
      "metadata": {
        "id": "M2EDTPLAHWit"
      }
    },
    {
      "cell_type": "code",
      "source": [
        "from sklearn.metrics import confusion_matrix\n",
        "from sklearn.metrics import accuracy_score\n",
        "from sklearn.metrics import precision_score\n",
        "from sklearn.metrics import precision_recall_curve\n",
        "from sklearn.metrics import recall_score\n",
        "from sklearn.metrics import f1_score\n",
        "from sklearn.metrics import plot_roc_curve\n",
        "from sklearn.metrics import roc_auc_score\n",
        "from sklearn.metrics import mean_squared_error        # to be used for regression model"
      ],
      "metadata": {
        "id": "1iStpf04HV_1"
      },
      "execution_count": null,
      "outputs": []
    },
    {
      "cell_type": "code",
      "source": [
        "print(confusion_matrix(y_test,pred))"
      ],
      "metadata": {
        "id": "47uV_7PAg808"
      },
      "execution_count": null,
      "outputs": []
    },
    {
      "cell_type": "code",
      "source": [
        "print(accuracy_score(y_test,pred))"
      ],
      "metadata": {
        "id": "-f0Eh5zpHZCG"
      },
      "execution_count": null,
      "outputs": []
    },
    {
      "cell_type": "code",
      "source": [
        "print(precision_score(y_test,pred))\n",
        "print(recall_score(y_test,pred))"
      ],
      "metadata": {
        "id": "gcJ7yK3ucjbU"
      },
      "execution_count": null,
      "outputs": []
    },
    {
      "cell_type": "code",
      "source": [
        "print(f1_score(y_test,pred))"
      ],
      "metadata": {
        "id": "yTUC5XJ4cuZi"
      },
      "execution_count": null,
      "outputs": []
    },
    {
      "cell_type": "markdown",
      "source": [
        "\n",
        "$\\color{blue}{\\text{The impact of k (Finding optimum value of k)}}$\n",
        "\n",
        "Let's now study what is the impact of the chosen number of neighbours in the accuracy of the model"
      ],
      "metadata": {
        "id": "uOnXu2eHHgUR"
      }
    },
    {
      "cell_type": "code",
      "source": [
        "train_accuracy = []\n",
        "test_accuracy = []\n",
        "train_precision = []\n",
        "test_precision = []\n",
        "train_recall = []\n",
        "test_recall = []\n",
        "\n",
        "num_ks = [1, 3, 9, 11, 21, 41, 61, 81, 101, 121, 201, 301]    #list of numbers \n",
        "#choose only odd values of k in classification problem so that model can surely select the output as either 0 or 1\n",
        "\n",
        "for i in range(len(num_ks)):\n",
        "  knn = KNeighborsClassifier(n_neighbors=num_ks[i])\n",
        "  knn.fit(X_train,y_train)\n",
        "\n",
        "  pred_train = knn.predict(X_train)\n",
        "  pred_test  = knn.predict(X_test)\n",
        "\n",
        "  train_accuracy.append(1-accuracy_score(y_train, pred_train))\n",
        "  test_accuracy.append(1-accuracy_score(y_test, pred_test))\n",
        "  train_precision.append(precision_score(y_train, pred_train))\n",
        "  test_precision.append(precision_score(y_test, pred_test))\n",
        "  train_recall.append(recall_score(y_train, pred_train))\n",
        "  test_recall.append(recall_score(y_test, pred_test))\n"
      ],
      "metadata": {
        "id": "fJ1TCduaSeOG"
      },
      "execution_count": null,
      "outputs": []
    },
    {
      "cell_type": "code",
      "source": [
        "plt.plot(test_precision, test_recall, 'bo--', label='Precision vs Recall trade off')\n",
        "plt.xlim([0.6,0.8])\n",
        "plt.ylim([0.6,0.8])\n",
        "plt.xlabel('Precision')\n",
        "plt.ylabel('Recall')\n",
        "plt.legend()\n",
        "plt.show()"
      ],
      "metadata": {
        "id": "pJwAGIb4fSJW"
      },
      "execution_count": null,
      "outputs": []
    },
    {
      "cell_type": "code",
      "source": [
        "plt.figure(figsize=(10,6))\n",
        "plt.plot(num_ks, train_accuracy, 'bo--', label='Train')\n",
        "plt.plot(num_ks, test_accuracy, 'ro--', label='Test')\n",
        "plt.xlabel('K')\n",
        "plt.ylabel('1 - Accuracy')\n",
        "plt.legend()\n",
        "plt.show()"
      ],
      "metadata": {
        "id": "S4CftpmcHmKM"
      },
      "execution_count": null,
      "outputs": []
    },
    {
      "cell_type": "markdown",
      "source": [
        "This graph is pretty similar to the one that we saw on slide 9 of Lecture 2. Here, we can see the expected general trend of the performance curves. \n",
        "\n",
        "Which k do you think is the best?"
      ],
      "metadata": {
        "id": "kGhwzvOOHtd5"
      }
    },
    {
      "cell_type": "markdown",
      "source": [
        "$\\color{blue}{\\text{Cross Validation}}$"
      ],
      "metadata": {
        "id": "7VJZyifr-4nR"
      }
    },
    {
      "cell_type": "code",
      "source": [
        "from sklearn.model_selection import cross_val_score"
      ],
      "metadata": {
        "id": "t_6J0cmd_558"
      },
      "execution_count": null,
      "outputs": []
    },
    {
      "cell_type": "code",
      "source": [
        "num_ks = 3\n",
        "knn = KNeighborsClassifier(n_neighbors=num_ks)\n",
        "scores = cross_val_score(knn, X_train, y_train, cv=5, scoring='accuracy')\n",
        "mean_score = scores.mean()\n",
        "print(scores)\n",
        "print(mean_score)"
      ],
      "metadata": {
        "id": "ozZlpqhhlgZt"
      },
      "execution_count": null,
      "outputs": []
    },
    {
      "cell_type": "code",
      "source": [
        "num_ks = [1, 3, 9, 11, 21, 41, 61, 81, 101, 121, 201, 301]    #list of numbers \n",
        "#choose only odd values of k in classification problem so that model can surely select the output as either 0 or 1\n",
        "validation_accuracy = []\n",
        "validation_precision = []\n",
        "validation_recall = []\n",
        "validation_f1 = []\n",
        "for i in range(len(num_ks)):\n",
        "  knn = KNeighborsClassifier(n_neighbors=num_ks[i])\n",
        "  score1 = cross_val_score(knn, X_train, y_train, cv=5, scoring='accuracy')\n",
        "  score2 = cross_val_score(knn, X_train, y_train, cv=5, scoring='precision')\n",
        "  score3 = cross_val_score(knn, X_train, y_train, cv=5, scoring='recall')\n",
        "  score4 = cross_val_score(knn, X_train, y_train, cv=5, scoring='f1')\n",
        "  mean_score1 = score1.mean()\n",
        "  mean_score2 = score2.mean()\n",
        "  mean_score3 = score3.mean()\n",
        "  mean_score4 = score4.mean()\n",
        "  validation_accuracy.append(1-mean_score1)\n",
        "  validation_precision.append(mean_score2)\n",
        "  validation_recall.append(mean_score3)\n",
        "  validation_f1.append(mean_score4)"
      ],
      "metadata": {
        "id": "jXOO3iN3-3n2"
      },
      "execution_count": null,
      "outputs": []
    },
    {
      "cell_type": "code",
      "source": [
        "validation_accuracy, validation_precision,validation_recall, validation_f1"
      ],
      "metadata": {
        "id": "IwF7XbX2GGR5"
      },
      "execution_count": null,
      "outputs": []
    },
    {
      "cell_type": "markdown",
      "source": [
        "$\\color{blue}{\\text{Finding optimum k using 'cross validation mean accuracy score vs k' diagram}}$\n"
      ],
      "metadata": {
        "id": "cQtyNEGDG4s1"
      }
    },
    {
      "cell_type": "code",
      "source": [
        "#plt.figure(figsize=(10,6))\n",
        "plt.plot(num_ks, validation_accuracy, 'ro--', label='Validation')\n",
        "plt.xlabel('K')\n",
        "plt.ylabel('1 - Accuracy')\n",
        "plt.legend()\n",
        "plt.show()\n",
        "\n",
        "plt.plot(num_ks, validation_precision, 'bo--', label='Validation')\n",
        "plt.xlabel('K')\n",
        "plt.ylabel('precision')\n",
        "plt.legend()\n",
        "plt.show()\n",
        "\n",
        "plt.plot(num_ks, validation_recall, 'go--', label='Validation')\n",
        "plt.xlabel('K')\n",
        "plt.ylabel('recall')\n",
        "plt.legend()\n",
        "plt.show()"
      ],
      "metadata": {
        "id": "gWnACe6gFHS3"
      },
      "execution_count": null,
      "outputs": []
    },
    {
      "cell_type": "code",
      "source": [
        "plt.figure(figsize=(10,6))\n",
        "plt.plot(validation_precision, validation_recall, 'ro--', label='Validation')\n",
        "plt.xlabel('Precison')\n",
        "plt.ylabel('Recall')\n",
        "plt.title('Precision_recall trade off')\n",
        "plt.legend()\n",
        "plt.show()"
      ],
      "metadata": {
        "id": "cQrYgMshB6zD"
      },
      "execution_count": null,
      "outputs": []
    },
    {
      "cell_type": "markdown",
      "source": [
        "#Task 1: Description\n",
        "\n",
        "Please note that every task submission is optional.\n",
        "1. Follow the same guidlines as discussed today to built KNN regression model using the dataset uploaded in github by the name 'BCF_features_training.csv'.\n",
        "2. Include MSE (mean square error) as performance matrix and optimal k value at the very last line of the code.\n",
        "3. After finishing your code download it in .ipynb format and upload your .ipynb file on elearning platform\n",
        " (Link to upload the files is already active on elearning)\n",
        " 4. I will calculate the performance matrix using the secret data (unseen data) that I have already kept with me on your model and\n",
        "  based on best 5 results (optimum k value and MSE error) will be given 2% extra marks for the exam."
      ],
      "metadata": {
        "id": "IrYX_LjKkjcE"
      }
    }
  ]
}