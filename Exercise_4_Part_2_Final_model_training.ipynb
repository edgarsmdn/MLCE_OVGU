{
  "nbformat": 4,
  "nbformat_minor": 0,
  "metadata": {
    "colab": {
      "name": "Exercise_4_Part_2_Final_model_training.ipynb",
      "provenance": []
    },
    "kernelspec": {
      "name": "python3",
      "display_name": "Python 3"
    },
    "language_info": {
      "name": "python"
    }
  },
  "cells": [
    {
      "cell_type": "code",
      "source": [
        "import numpy as np\n",
        "import pandas as pd\n",
        "import matplotlib.pyplot as plt\n",
        "from sklearn.model_selection import train_test_split\n",
        "from sklearn.preprocessing import StandardScaler\n",
        "from tensorflow.keras import Sequential\n",
        "from tensorflow.keras.layers import Dense\n",
        "from tensorflow.keras import regularizers\n",
        "from tensorflow.keras.optimizers import Adam\n",
        "from tensorflow.keras.wrappers.scikit_learn import KerasRegressor\n",
        "from sklearn.metrics import r2_score\n",
        "import keras"
      ],
      "metadata": {
        "id": "2mRsyC_-3yWI"
      },
      "execution_count": 12,
      "outputs": []
    },
    {
      "cell_type": "code",
      "source": [
        "data = pd.read_csv('/content/CCPP_data.csv')\n",
        "data.head()"
      ],
      "metadata": {
        "id": "iAyTWuaM3zpt",
        "colab": {
          "base_uri": "https://localhost:8080/",
          "height": 206
        },
        "outputId": "4392ca92-a176-47be-feb9-6d517b66b678"
      },
      "execution_count": 13,
      "outputs": [
        {
          "output_type": "execute_result",
          "data": {
            "text/plain": [
              "      AT      V       AP     RH      PE\n",
              "0  14.96  41.76  1024.07  73.17  463.26\n",
              "1  25.18  62.96  1020.04  59.08  444.37\n",
              "2   5.11  39.40  1012.16  92.14  488.56\n",
              "3  20.86  57.32  1010.24  76.64  446.48\n",
              "4  10.82  37.50  1009.23  96.62  473.90"
            ],
            "text/html": [
              "\n",
              "  <div id=\"df-8c83551e-eb9c-4bf6-aa5d-2feccdc52805\">\n",
              "    <div class=\"colab-df-container\">\n",
              "      <div>\n",
              "<style scoped>\n",
              "    .dataframe tbody tr th:only-of-type {\n",
              "        vertical-align: middle;\n",
              "    }\n",
              "\n",
              "    .dataframe tbody tr th {\n",
              "        vertical-align: top;\n",
              "    }\n",
              "\n",
              "    .dataframe thead th {\n",
              "        text-align: right;\n",
              "    }\n",
              "</style>\n",
              "<table border=\"1\" class=\"dataframe\">\n",
              "  <thead>\n",
              "    <tr style=\"text-align: right;\">\n",
              "      <th></th>\n",
              "      <th>AT</th>\n",
              "      <th>V</th>\n",
              "      <th>AP</th>\n",
              "      <th>RH</th>\n",
              "      <th>PE</th>\n",
              "    </tr>\n",
              "  </thead>\n",
              "  <tbody>\n",
              "    <tr>\n",
              "      <th>0</th>\n",
              "      <td>14.96</td>\n",
              "      <td>41.76</td>\n",
              "      <td>1024.07</td>\n",
              "      <td>73.17</td>\n",
              "      <td>463.26</td>\n",
              "    </tr>\n",
              "    <tr>\n",
              "      <th>1</th>\n",
              "      <td>25.18</td>\n",
              "      <td>62.96</td>\n",
              "      <td>1020.04</td>\n",
              "      <td>59.08</td>\n",
              "      <td>444.37</td>\n",
              "    </tr>\n",
              "    <tr>\n",
              "      <th>2</th>\n",
              "      <td>5.11</td>\n",
              "      <td>39.40</td>\n",
              "      <td>1012.16</td>\n",
              "      <td>92.14</td>\n",
              "      <td>488.56</td>\n",
              "    </tr>\n",
              "    <tr>\n",
              "      <th>3</th>\n",
              "      <td>20.86</td>\n",
              "      <td>57.32</td>\n",
              "      <td>1010.24</td>\n",
              "      <td>76.64</td>\n",
              "      <td>446.48</td>\n",
              "    </tr>\n",
              "    <tr>\n",
              "      <th>4</th>\n",
              "      <td>10.82</td>\n",
              "      <td>37.50</td>\n",
              "      <td>1009.23</td>\n",
              "      <td>96.62</td>\n",
              "      <td>473.90</td>\n",
              "    </tr>\n",
              "  </tbody>\n",
              "</table>\n",
              "</div>\n",
              "      <button class=\"colab-df-convert\" onclick=\"convertToInteractive('df-8c83551e-eb9c-4bf6-aa5d-2feccdc52805')\"\n",
              "              title=\"Convert this dataframe to an interactive table.\"\n",
              "              style=\"display:none;\">\n",
              "        \n",
              "  <svg xmlns=\"http://www.w3.org/2000/svg\" height=\"24px\"viewBox=\"0 0 24 24\"\n",
              "       width=\"24px\">\n",
              "    <path d=\"M0 0h24v24H0V0z\" fill=\"none\"/>\n",
              "    <path d=\"M18.56 5.44l.94 2.06.94-2.06 2.06-.94-2.06-.94-.94-2.06-.94 2.06-2.06.94zm-11 1L8.5 8.5l.94-2.06 2.06-.94-2.06-.94L8.5 2.5l-.94 2.06-2.06.94zm10 10l.94 2.06.94-2.06 2.06-.94-2.06-.94-.94-2.06-.94 2.06-2.06.94z\"/><path d=\"M17.41 7.96l-1.37-1.37c-.4-.4-.92-.59-1.43-.59-.52 0-1.04.2-1.43.59L10.3 9.45l-7.72 7.72c-.78.78-.78 2.05 0 2.83L4 21.41c.39.39.9.59 1.41.59.51 0 1.02-.2 1.41-.59l7.78-7.78 2.81-2.81c.8-.78.8-2.07 0-2.86zM5.41 20L4 18.59l7.72-7.72 1.47 1.35L5.41 20z\"/>\n",
              "  </svg>\n",
              "      </button>\n",
              "      \n",
              "  <style>\n",
              "    .colab-df-container {\n",
              "      display:flex;\n",
              "      flex-wrap:wrap;\n",
              "      gap: 12px;\n",
              "    }\n",
              "\n",
              "    .colab-df-convert {\n",
              "      background-color: #E8F0FE;\n",
              "      border: none;\n",
              "      border-radius: 50%;\n",
              "      cursor: pointer;\n",
              "      display: none;\n",
              "      fill: #1967D2;\n",
              "      height: 32px;\n",
              "      padding: 0 0 0 0;\n",
              "      width: 32px;\n",
              "    }\n",
              "\n",
              "    .colab-df-convert:hover {\n",
              "      background-color: #E2EBFA;\n",
              "      box-shadow: 0px 1px 2px rgba(60, 64, 67, 0.3), 0px 1px 3px 1px rgba(60, 64, 67, 0.15);\n",
              "      fill: #174EA6;\n",
              "    }\n",
              "\n",
              "    [theme=dark] .colab-df-convert {\n",
              "      background-color: #3B4455;\n",
              "      fill: #D2E3FC;\n",
              "    }\n",
              "\n",
              "    [theme=dark] .colab-df-convert:hover {\n",
              "      background-color: #434B5C;\n",
              "      box-shadow: 0px 1px 3px 1px rgba(0, 0, 0, 0.15);\n",
              "      filter: drop-shadow(0px 1px 2px rgba(0, 0, 0, 0.3));\n",
              "      fill: #FFFFFF;\n",
              "    }\n",
              "  </style>\n",
              "\n",
              "      <script>\n",
              "        const buttonEl =\n",
              "          document.querySelector('#df-8c83551e-eb9c-4bf6-aa5d-2feccdc52805 button.colab-df-convert');\n",
              "        buttonEl.style.display =\n",
              "          google.colab.kernel.accessAllowed ? 'block' : 'none';\n",
              "\n",
              "        async function convertToInteractive(key) {\n",
              "          const element = document.querySelector('#df-8c83551e-eb9c-4bf6-aa5d-2feccdc52805');\n",
              "          const dataTable =\n",
              "            await google.colab.kernel.invokeFunction('convertToInteractive',\n",
              "                                                     [key], {});\n",
              "          if (!dataTable) return;\n",
              "\n",
              "          const docLinkHtml = 'Like what you see? Visit the ' +\n",
              "            '<a target=\"_blank\" href=https://colab.research.google.com/notebooks/data_table.ipynb>data table notebook</a>'\n",
              "            + ' to learn more about interactive tables.';\n",
              "          element.innerHTML = '';\n",
              "          dataTable['output_type'] = 'display_data';\n",
              "          await google.colab.output.renderOutput(dataTable, element);\n",
              "          const docLink = document.createElement('div');\n",
              "          docLink.innerHTML = docLinkHtml;\n",
              "          element.appendChild(docLink);\n",
              "        }\n",
              "      </script>\n",
              "    </div>\n",
              "  </div>\n",
              "  "
            ]
          },
          "metadata": {},
          "execution_count": 13
        }
      ]
    },
    {
      "cell_type": "code",
      "source": [
        "data = np.array(data)\n",
        "X = data[:,0:4]\n",
        "y = data[:,4].reshape(-1,1)"
      ],
      "metadata": {
        "id": "rhr-oD_t37JE"
      },
      "execution_count": 14,
      "outputs": []
    },
    {
      "cell_type": "code",
      "source": [
        "# Split the data into train and test\n",
        "\n",
        "X_train, X_test, y_train, y_test = train_test_split(X, y, test_size=0.2, random_state=100)\n"
      ],
      "metadata": {
        "id": "NpDwtjSMMCiC"
      },
      "execution_count": 15,
      "outputs": []
    },
    {
      "cell_type": "code",
      "source": [
        "X_scaler = StandardScaler()\n",
        "y_scaler = StandardScaler()\n",
        "\n",
        "X_train_scaled = X_scaler.fit_transform(X_train)\n",
        "y_train_scaled = y_scaler.fit_transform(y_train)\n",
        "\n",
        "X_test_scaled = X_scaler.fit_transform(X_test)\n",
        "y_test_scaled = y_scaler.fit_transform(y_test)"
      ],
      "metadata": {
        "id": "GyWFR93Y4_lz"
      },
      "execution_count": 16,
      "outputs": []
    },
    {
      "cell_type": "code",
      "execution_count": 17,
      "metadata": {
        "id": "ChO0r61G3oOX"
      },
      "outputs": [],
      "source": [
        "# Feed-forward Neural Network model\n",
        "\n",
        "def FFNN_model(hidden_layers, layer_size, regularizationValue, learningRate):\n",
        "#layer_size is a list which contains same number of elements as number of hidden layers\n",
        "    model = Sequential()\n",
        "    model.add(Dense(layer_size[0], \n",
        "                    kernel_regularizer=regularizers.L1(regularizationValue), \n",
        "                    activation='relu', \n",
        "                    kernel_initializer='he_normal', \n",
        "                    input_shape=(4,)))\n",
        "    \n",
        "    for i in range(1,hidden_layers):\n",
        "        model.add(Dense(layer_size[i], \n",
        "                        kernel_regularizer=regularizers.L1(regularizationValue), \n",
        "                        activation='relu', \n",
        "                        kernel_initializer='he_normal'))\n",
        "        \n",
        "    model.add(Dense(1))\n",
        "    model.compile(loss='mse', optimizer=Adam(learning_rate=learningRate))\n",
        "    return model"
      ]
    },
    {
      "cell_type": "code",
      "source": [
        "best_model = FFNN_model(2,[10,20],0.001,0.05)\n",
        "best_model.fit(X_train_scaled, y_train_scaled, epochs=30, batch_size=50)    #final model training with all the data points"
      ],
      "metadata": {
        "id": "m4QN96CUEFnE",
        "colab": {
          "base_uri": "https://localhost:8080/"
        },
        "outputId": "38db60bf-cd8e-4c56-cc04-7c679f7f503d"
      },
      "execution_count": 18,
      "outputs": [
        {
          "output_type": "stream",
          "name": "stdout",
          "text": [
            "Epoch 1/30\n",
            "154/154 [==============================] - 1s 2ms/step - loss: 0.1596\n",
            "Epoch 2/30\n",
            "154/154 [==============================] - 0s 2ms/step - loss: 0.0900\n",
            "Epoch 3/30\n",
            "154/154 [==============================] - 0s 2ms/step - loss: 0.0798\n",
            "Epoch 4/30\n",
            "154/154 [==============================] - 0s 2ms/step - loss: 0.0792\n",
            "Epoch 5/30\n",
            "154/154 [==============================] - 0s 2ms/step - loss: 0.0776\n",
            "Epoch 6/30\n",
            "154/154 [==============================] - 0s 2ms/step - loss: 0.0742\n",
            "Epoch 7/30\n",
            "154/154 [==============================] - 0s 2ms/step - loss: 0.0735\n",
            "Epoch 8/30\n",
            "154/154 [==============================] - 0s 2ms/step - loss: 0.0757\n",
            "Epoch 9/30\n",
            "154/154 [==============================] - 0s 2ms/step - loss: 0.0712\n",
            "Epoch 10/30\n",
            "154/154 [==============================] - 0s 2ms/step - loss: 0.0726\n",
            "Epoch 11/30\n",
            "154/154 [==============================] - 0s 2ms/step - loss: 0.0737\n",
            "Epoch 12/30\n",
            "154/154 [==============================] - 0s 2ms/step - loss: 0.0722\n",
            "Epoch 13/30\n",
            "154/154 [==============================] - 0s 2ms/step - loss: 0.0722\n",
            "Epoch 14/30\n",
            "154/154 [==============================] - 0s 2ms/step - loss: 0.0728\n",
            "Epoch 15/30\n",
            "154/154 [==============================] - 0s 2ms/step - loss: 0.0739\n",
            "Epoch 16/30\n",
            "154/154 [==============================] - 0s 2ms/step - loss: 0.0723\n",
            "Epoch 17/30\n",
            "154/154 [==============================] - 0s 2ms/step - loss: 0.0726\n",
            "Epoch 18/30\n",
            "154/154 [==============================] - 0s 1ms/step - loss: 0.0713\n",
            "Epoch 19/30\n",
            "154/154 [==============================] - 0s 2ms/step - loss: 0.0741\n",
            "Epoch 20/30\n",
            "154/154 [==============================] - 0s 2ms/step - loss: 0.0768\n",
            "Epoch 21/30\n",
            "154/154 [==============================] - 0s 2ms/step - loss: 0.0707\n",
            "Epoch 22/30\n",
            "154/154 [==============================] - 0s 2ms/step - loss: 0.0716\n",
            "Epoch 23/30\n",
            "154/154 [==============================] - 0s 2ms/step - loss: 0.0698\n",
            "Epoch 24/30\n",
            "154/154 [==============================] - 0s 2ms/step - loss: 0.0714\n",
            "Epoch 25/30\n",
            "154/154 [==============================] - 0s 2ms/step - loss: 0.0731\n",
            "Epoch 26/30\n",
            "154/154 [==============================] - 0s 2ms/step - loss: 0.0717\n",
            "Epoch 27/30\n",
            "154/154 [==============================] - 0s 2ms/step - loss: 0.0716\n",
            "Epoch 28/30\n",
            "154/154 [==============================] - 0s 2ms/step - loss: 0.0728\n",
            "Epoch 29/30\n",
            "154/154 [==============================] - 0s 2ms/step - loss: 0.0714\n",
            "Epoch 30/30\n",
            "154/154 [==============================] - 0s 2ms/step - loss: 0.0722\n"
          ]
        },
        {
          "output_type": "execute_result",
          "data": {
            "text/plain": [
              "<keras.callbacks.History at 0x7f4cb45a3050>"
            ]
          },
          "metadata": {},
          "execution_count": 18
        }
      ]
    },
    {
      "cell_type": "code",
      "source": [
        "y_scaled_pred = best_model.predict(X_test_scaled)\n",
        "y_pred = y_scaler.inverse_transform(y_scaled_pred )\n",
        "\n",
        "plt.figure()\n",
        "plt.plot(y_test_scaled, y_pred, '*')\n",
        "plt.xlabel('y')\n",
        "plt.ylabel('y_pred')"
      ],
      "metadata": {
        "id": "rQh8-OAl6BV5",
        "colab": {
          "base_uri": "https://localhost:8080/",
          "height": 296
        },
        "outputId": "d192f74d-cf57-4f3d-a738-c5150c21b19b"
      },
      "execution_count": 19,
      "outputs": [
        {
          "output_type": "execute_result",
          "data": {
            "text/plain": [
              "Text(0, 0.5, 'y_pred')"
            ]
          },
          "metadata": {},
          "execution_count": 19
        },
        {
          "output_type": "display_data",
          "data": {
            "text/plain": [
              "<Figure size 432x288 with 1 Axes>"
            ],
            "image/png": "[encoded data removed]"
          },
          "metadata": {
            "needs_background": "light"
          }
        }
      ]
    },
    {
      "cell_type": "code",
      "source": [
        "best_model.save('sahil_model.h5')   # Always save model file with your name so that we can keep track on your files"
      ],
      "metadata": {
        "id": "S1IRqPJ7FqHm"
      },
      "execution_count": 20,
      "outputs": []
    },
    {
      "cell_type": "code",
      "source": [
        "# how to write the final code for submission\n",
        "\n",
        "def sahil_model(data):\n",
        "    data = np.array(data)\n",
        "    X = data[:,0:4]\n",
        "    y = data[:,4].reshape(-1,1)\n",
        "\n",
        "    X_scaler = StandardScaler()\n",
        "    X_scaled = X_scaler.fit_transform(X)\n",
        "\n",
        "    y_scaler = StandardScaler()\n",
        "    y_scaled = y_scaler.fit_transform(y)\n",
        "\n",
        "    model = keras.models.load_model('/content/sahil_model.h5')\n",
        "    y_scaled_pred = model.predict(X_scaled)\n",
        "    y_pred = y_scaler.inverse_transform(y_scaled_pred )\n",
        "    plt.figure()\n",
        "    plt.plot(y, y_pred, '*')\n",
        "    plt.xlabel('y')\n",
        "    plt.ylabel('y_pred')\n",
        "    r2 =  r2_score(y, y_pred)\n",
        "    return r2"
      ],
      "metadata": {
        "id": "BTOG_6DfGo0j"
      },
      "execution_count": 21,
      "outputs": []
    },
    {
      "cell_type": "code",
      "source": [
        "sahil_model(data)"
      ],
      "metadata": {
        "id": "S9-1hBWlJznR",
        "colab": {
          "base_uri": "https://localhost:8080/",
          "height": 296
        },
        "outputId": "f90a6095-b2ea-4fe3-932f-61d21dd3fcad"
      },
      "execution_count": 22,
      "outputs": [
        {
          "output_type": "execute_result",
          "data": {
            "text/plain": [
              "0.9366823693274"
            ]
          },
          "metadata": {},
          "execution_count": 22
        },
        {
          "output_type": "display_data",
          "data": {
            "text/plain": [
              "<Figure size 432x288 with 1 Axes>"
            ],
            "image/png": "[encoded data removed]"
          },
          "metadata": {
            "needs_background": "light"
          }
        }
      ]
    }
  ]
}